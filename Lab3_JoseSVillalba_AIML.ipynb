{
  "nbformat": 4,
  "nbformat_minor": 0,
  "metadata": {
    "colab": {
      "provenance": []
    },
    "kernelspec": {
      "name": "python3",
      "display_name": "Python 3"
    },
    "language_info": {
      "name": "python"
    }
  },
  "cells": [
    {
      "cell_type": "markdown",
      "source": [
        "# LAB 3: Classification using different methods: SVM, KNN, Logistic\n",
        "\n",
        "AI and ML- theory and practice\n",
        "\n",
        "Jose Sebastian Villalba\n",
        "\n",
        "October 3, 2023"
      ],
      "metadata": {
        "id": "O1kqOqSHyq1Q"
      }
    },
    {
      "cell_type": "markdown",
      "source": [
        "## Index\n",
        "\n",
        "This following Jupyter Notebook has been divided in the following sectioins\n",
        "\n",
        "- Importing Datasets\n",
        "\n",
        "- Spliting the dataset into training and testing datasets\n",
        "\n",
        "Then I will analyze the three models over the entire dataset (30 features)\n",
        "\n",
        "- Logistic Regression Classifier\n",
        "\n",
        "- SVM Classifier (Hyperparameter tuning and predictions)\n",
        "\n",
        "- KNN Classifier\n",
        "\n",
        "Then, I will analyze the models on a 5 dimensions dataset to analyze the efficiency of dimension - reduction\n",
        "\n",
        "- Logistic Regression Classifier\n",
        "\n",
        "- SVM Classifier (Hyperparameter tuning and predictions)\n",
        "\n",
        "- KNN Classifier\n",
        "\n",
        "FINALLY, YOU WILL FIND A RESULTS ANALYSIS SECTION\n",
        "\n",
        "\n"
      ],
      "metadata": {
        "id": "AfPswszS6LTH"
      }
    },
    {
      "cell_type": "code",
      "source": [
        "#importing libraries\n",
        "import pandas as pd\n",
        "from sklearn import neighbors, svm\n",
        "from sklearn.neighbors import KNeighborsClassifier\n",
        "from sklearn.svm import SVC\n",
        "from sklearn.model_selection import train_test_split,GridSearchCV\n",
        "from sklearn.linear_model import LogisticRegression\n",
        "from sklearn import metrics\n",
        "import matplotlib.pyplot as plt\n",
        "from sklearn.metrics import accuracy_score, classification_report, confusion_matrix\n",
        "from sklearn.preprocessing import StandardScaler\n",
        "import seaborn as sns"
      ],
      "metadata": {
        "id": "i8jM5IJDTCMI"
      },
      "execution_count": 3,
      "outputs": []
    },
    {
      "cell_type": "markdown",
      "source": [
        "## Importing the dataset\n",
        "\n",
        "For this step I will import the fataset by following the indications described in the breast cancer Winsconsin dataset: https://archive.ics.uci.edu/dataset/17/breast+cancer+wisconsin+diagnostic\n"
      ],
      "metadata": {
        "id": "HqHx8WXO1F5h"
      }
    },
    {
      "cell_type": "code",
      "source": [
        "pip install ucimlrepo"
      ],
      "metadata": {
        "colab": {
          "base_uri": "https://localhost:8080/"
        },
        "id": "j6opG344ycQ_",
        "outputId": "1b03f8be-cc31-4d6a-96b9-88113b781b84"
      },
      "execution_count": 4,
      "outputs": [
        {
          "output_type": "stream",
          "name": "stdout",
          "text": [
            "Collecting ucimlrepo\n",
            "  Downloading ucimlrepo-0.0.2-py3-none-any.whl (7.0 kB)\n",
            "Installing collected packages: ucimlrepo\n",
            "Successfully installed ucimlrepo-0.0.2\n"
          ]
        }
      ]
    },
    {
      "cell_type": "markdown",
      "source": [
        "The following code will import the dataset, split it into two chunks (target and features) and display some information of the dataset specifying that there are no missing values in the dataset and columns have the right type of data. This means that no text to number transformation is needed.\n"
      ],
      "metadata": {
        "id": "9K7bELOZ1ytq"
      }
    },
    {
      "cell_type": "code",
      "execution_count": 5,
      "metadata": {
        "colab": {
          "base_uri": "https://localhost:8080/"
        },
        "id": "pvs0gshYx-KJ",
        "outputId": "023c532f-06aa-4ce6-d806-c5736187b2ac"
      },
      "outputs": [
        {
          "output_type": "stream",
          "name": "stdout",
          "text": [
            "{'uci_id': 17, 'name': 'Breast Cancer Wisconsin (Diagnostic)', 'repository_url': 'https://archive.ics.uci.edu/dataset/17/breast+cancer+wisconsin+diagnostic', 'data_url': 'https://archive.ics.uci.edu/static/public/17/data.csv', 'abstract': 'Diagnostic Wisconsin Breast Cancer Database.', 'area': 'Life Science', 'tasks': ['Classification'], 'characteristics': ['Multivariate'], 'num_instances': 569, 'num_features': 30, 'feature_types': ['Real'], 'demographics': [], 'target_col': ['Diagnosis'], 'index_col': ['ID'], 'has_missing_values': 'no', 'missing_values_symbol': None, 'year_of_dataset_creation': 1993, 'last_updated': 'Mon Jul 17 2023', 'dataset_doi': '10.24432/C5DW2B', 'creators': ['William Wolberg', 'Olvi Mangasarian', 'Nick Street', 'W. Street'], 'intro_paper': {'title': 'Nuclear feature extraction for breast tumor diagnosis', 'authors': 'W. Street, W. Wolberg, O. Mangasarian', 'published_in': 'Electronic imaging', 'year': 1993, 'url': 'https://www.semanticscholar.org/paper/53f0fbb425bc14468eb3bf96b2e1d41ba8087f36', 'doi': '10.1117/12.148698'}, 'additional_info': {'summary': 'Features are computed from a digitized image of a fine needle aspirate (FNA) of a breast mass.  They describe characteristics of the cell nuclei present in the image. A few of the images can be found at http://www.cs.wisc.edu/~street/images/\\r\\n\\r\\nSeparating plane described above was obtained using Multisurface Method-Tree (MSM-T) [K. P. Bennett, \"Decision Tree Construction Via Linear Programming.\" Proceedings of the 4th Midwest Artificial Intelligence and Cognitive Science Society, pp. 97-101, 1992], a classification method which uses linear programming to construct a decision tree.  Relevant features were selected using an exhaustive search in the space of 1-4 features and 1-3 separating planes.\\r\\n\\r\\nThe actual linear program used to obtain the separating plane in the 3-dimensional space is that described in: [K. P. Bennett and O. L. Mangasarian: \"Robust Linear Programming Discrimination of Two Linearly Inseparable Sets\", Optimization Methods and Software 1, 1992, 23-34].\\r\\n\\r\\nThis database is also available through the UW CS ftp server:\\r\\nftp ftp.cs.wisc.edu\\r\\ncd math-prog/cpo-dataset/machine-learn/WDBC/', 'purpose': None, 'funded_by': None, 'instances_represent': None, 'recommended_data_splits': None, 'sensitive_data': None, 'preprocessing_description': None, 'variable_info': '1) ID number\\r\\n2) Diagnosis (M = malignant, B = benign)\\r\\n3-32)\\r\\n\\r\\nTen real-valued features are computed for each cell nucleus:\\r\\n\\r\\n\\ta) radius (mean of distances from center to points on the perimeter)\\r\\n\\tb) texture (standard deviation of gray-scale values)\\r\\n\\tc) perimeter\\r\\n\\td) area\\r\\n\\te) smoothness (local variation in radius lengths)\\r\\n\\tf) compactness (perimeter^2 / area - 1.0)\\r\\n\\tg) concavity (severity of concave portions of the contour)\\r\\n\\th) concave points (number of concave portions of the contour)\\r\\n\\ti) symmetry \\r\\n\\tj) fractal dimension (\"coastline approximation\" - 1)', 'citation': None}}\n",
            "                  name     role         type demographic description units  \\\n",
            "0                   ID       ID  Categorical        None        None  None   \n",
            "1            Diagnosis   Target  Categorical        None        None  None   \n",
            "2              radius1  Feature   Continuous        None        None  None   \n",
            "3             texture1  Feature   Continuous        None        None  None   \n",
            "4           perimeter1  Feature   Continuous        None        None  None   \n",
            "5                area1  Feature   Continuous        None        None  None   \n",
            "6          smoothness1  Feature   Continuous        None        None  None   \n",
            "7         compactness1  Feature   Continuous        None        None  None   \n",
            "8           concavity1  Feature   Continuous        None        None  None   \n",
            "9      concave_points1  Feature   Continuous        None        None  None   \n",
            "10           symmetry1  Feature   Continuous        None        None  None   \n",
            "11  fractal_dimension1  Feature   Continuous        None        None  None   \n",
            "12             radius2  Feature   Continuous        None        None  None   \n",
            "13            texture2  Feature   Continuous        None        None  None   \n",
            "14          perimeter2  Feature   Continuous        None        None  None   \n",
            "15               area2  Feature   Continuous        None        None  None   \n",
            "16         smoothness2  Feature   Continuous        None        None  None   \n",
            "17        compactness2  Feature   Continuous        None        None  None   \n",
            "18          concavity2  Feature   Continuous        None        None  None   \n",
            "19     concave_points2  Feature   Continuous        None        None  None   \n",
            "20           symmetry2  Feature   Continuous        None        None  None   \n",
            "21  fractal_dimension2  Feature   Continuous        None        None  None   \n",
            "22             radius3  Feature   Continuous        None        None  None   \n",
            "23            texture3  Feature   Continuous        None        None  None   \n",
            "24          perimeter3  Feature   Continuous        None        None  None   \n",
            "25               area3  Feature   Continuous        None        None  None   \n",
            "26         smoothness3  Feature   Continuous        None        None  None   \n",
            "27        compactness3  Feature   Continuous        None        None  None   \n",
            "28          concavity3  Feature   Continuous        None        None  None   \n",
            "29     concave_points3  Feature   Continuous        None        None  None   \n",
            "30           symmetry3  Feature   Continuous        None        None  None   \n",
            "31  fractal_dimension3  Feature   Continuous        None        None  None   \n",
            "\n",
            "   missing_values  \n",
            "0              no  \n",
            "1              no  \n",
            "2              no  \n",
            "3              no  \n",
            "4              no  \n",
            "5              no  \n",
            "6              no  \n",
            "7              no  \n",
            "8              no  \n",
            "9              no  \n",
            "10             no  \n",
            "11             no  \n",
            "12             no  \n",
            "13             no  \n",
            "14             no  \n",
            "15             no  \n",
            "16             no  \n",
            "17             no  \n",
            "18             no  \n",
            "19             no  \n",
            "20             no  \n",
            "21             no  \n",
            "22             no  \n",
            "23             no  \n",
            "24             no  \n",
            "25             no  \n",
            "26             no  \n",
            "27             no  \n",
            "28             no  \n",
            "29             no  \n",
            "30             no  \n",
            "31             no  \n"
          ]
        }
      ],
      "source": [
        "from ucimlrepo import fetch_ucirepo\n",
        "\n",
        "# fetch dataset\n",
        "breast_cancer_wisconsin_diagnostic = fetch_ucirepo(id=17)\n",
        "\n",
        "# data (as pandas dataframes)\n",
        "X = breast_cancer_wisconsin_diagnostic.data.features\n",
        "y = breast_cancer_wisconsin_diagnostic.data.targets\n",
        "\n",
        "# metadata\n",
        "print(breast_cancer_wisconsin_diagnostic.metadata)\n",
        "\n",
        "# variable information\n",
        "print(breast_cancer_wisconsin_diagnostic.variables)"
      ]
    },
    {
      "cell_type": "markdown",
      "source": [
        "This means that we have 30 numerical features with no null values on it"
      ],
      "metadata": {
        "id": "2M56d04FaaIv"
      }
    },
    {
      "cell_type": "markdown",
      "source": [
        "## Spliting the dataset into train and test datasets"
      ],
      "metadata": {
        "id": "5gtAIxmYaI6R"
      }
    },
    {
      "cell_type": "code",
      "source": [
        "x_train, x_test, y_train, y_test = train_test_split(X,y,test_size=0.2,random_state=42)\n",
        "x_train.head()"
      ],
      "metadata": {
        "colab": {
          "base_uri": "https://localhost:8080/",
          "height": 255
        },
        "id": "K4KwIuSGYsNk",
        "outputId": "bef882bd-92c7-413e-b705-12aa0405c433"
      },
      "execution_count": 6,
      "outputs": [
        {
          "output_type": "execute_result",
          "data": {
            "text/plain": [
              "     radius1  texture1  perimeter1   area1  smoothness1  compactness1  \\\n",
              "68     9.029     17.33       58.79   250.5      0.10660       0.14130   \n",
              "181   21.090     26.57      142.70  1311.0      0.11410       0.28320   \n",
              "63     9.173     13.86       59.20   260.9      0.07721       0.08751   \n",
              "248   10.650     25.22       68.01   347.0      0.09657       0.07234   \n",
              "60    10.170     14.88       64.55   311.9      0.11340       0.08061   \n",
              "\n",
              "     concavity1  concave_points1  symmetry1  fractal_dimension1  ...  radius3  \\\n",
              "68      0.31300          0.04375     0.2111             0.08046  ...    10.31   \n",
              "181     0.24870          0.14960     0.2395             0.07398  ...    26.68   \n",
              "63      0.05988          0.02180     0.2341             0.06963  ...    10.01   \n",
              "248     0.02379          0.01615     0.1897             0.06329  ...    12.25   \n",
              "60      0.01084          0.01290     0.2743             0.06960  ...    11.02   \n",
              "\n",
              "     texture3  perimeter3   area3  smoothness3  compactness3  concavity3  \\\n",
              "68      22.65       65.50   324.7      0.14820       0.43650     1.25200   \n",
              "181     33.48      176.50  2089.0      0.14910       0.75840     0.67800   \n",
              "63      19.23       65.59   310.1      0.09836       0.16780     0.13970   \n",
              "248     35.19       77.98   455.7      0.14990       0.13980     0.11250   \n",
              "60      17.45       69.86   368.6      0.12750       0.09866     0.02168   \n",
              "\n",
              "     concave_points3  symmetry3  fractal_dimension3  \n",
              "68           0.17500     0.4228             0.11750  \n",
              "181          0.29030     0.4098             0.12840  \n",
              "63           0.05087     0.3282             0.08490  \n",
              "248          0.06136     0.3409             0.08147  \n",
              "60           0.02579     0.3557             0.08020  \n",
              "\n",
              "[5 rows x 30 columns]"
            ],
            "text/html": [
              "\n",
              "  <div id=\"df-2022a248-8b77-4074-a92e-f862c755bb1c\" class=\"colab-df-container\">\n",
              "    <div>\n",
              "<style scoped>\n",
              "    .dataframe tbody tr th:only-of-type {\n",
              "        vertical-align: middle;\n",
              "    }\n",
              "\n",
              "    .dataframe tbody tr th {\n",
              "        vertical-align: top;\n",
              "    }\n",
              "\n",
              "    .dataframe thead th {\n",
              "        text-align: right;\n",
              "    }\n",
              "</style>\n",
              "<table border=\"1\" class=\"dataframe\">\n",
              "  <thead>\n",
              "    <tr style=\"text-align: right;\">\n",
              "      <th></th>\n",
              "      <th>radius1</th>\n",
              "      <th>texture1</th>\n",
              "      <th>perimeter1</th>\n",
              "      <th>area1</th>\n",
              "      <th>smoothness1</th>\n",
              "      <th>compactness1</th>\n",
              "      <th>concavity1</th>\n",
              "      <th>concave_points1</th>\n",
              "      <th>symmetry1</th>\n",
              "      <th>fractal_dimension1</th>\n",
              "      <th>...</th>\n",
              "      <th>radius3</th>\n",
              "      <th>texture3</th>\n",
              "      <th>perimeter3</th>\n",
              "      <th>area3</th>\n",
              "      <th>smoothness3</th>\n",
              "      <th>compactness3</th>\n",
              "      <th>concavity3</th>\n",
              "      <th>concave_points3</th>\n",
              "      <th>symmetry3</th>\n",
              "      <th>fractal_dimension3</th>\n",
              "    </tr>\n",
              "  </thead>\n",
              "  <tbody>\n",
              "    <tr>\n",
              "      <th>68</th>\n",
              "      <td>9.029</td>\n",
              "      <td>17.33</td>\n",
              "      <td>58.79</td>\n",
              "      <td>250.5</td>\n",
              "      <td>0.10660</td>\n",
              "      <td>0.14130</td>\n",
              "      <td>0.31300</td>\n",
              "      <td>0.04375</td>\n",
              "      <td>0.2111</td>\n",
              "      <td>0.08046</td>\n",
              "      <td>...</td>\n",
              "      <td>10.31</td>\n",
              "      <td>22.65</td>\n",
              "      <td>65.50</td>\n",
              "      <td>324.7</td>\n",
              "      <td>0.14820</td>\n",
              "      <td>0.43650</td>\n",
              "      <td>1.25200</td>\n",
              "      <td>0.17500</td>\n",
              "      <td>0.4228</td>\n",
              "      <td>0.11750</td>\n",
              "    </tr>\n",
              "    <tr>\n",
              "      <th>181</th>\n",
              "      <td>21.090</td>\n",
              "      <td>26.57</td>\n",
              "      <td>142.70</td>\n",
              "      <td>1311.0</td>\n",
              "      <td>0.11410</td>\n",
              "      <td>0.28320</td>\n",
              "      <td>0.24870</td>\n",
              "      <td>0.14960</td>\n",
              "      <td>0.2395</td>\n",
              "      <td>0.07398</td>\n",
              "      <td>...</td>\n",
              "      <td>26.68</td>\n",
              "      <td>33.48</td>\n",
              "      <td>176.50</td>\n",
              "      <td>2089.0</td>\n",
              "      <td>0.14910</td>\n",
              "      <td>0.75840</td>\n",
              "      <td>0.67800</td>\n",
              "      <td>0.29030</td>\n",
              "      <td>0.4098</td>\n",
              "      <td>0.12840</td>\n",
              "    </tr>\n",
              "    <tr>\n",
              "      <th>63</th>\n",
              "      <td>9.173</td>\n",
              "      <td>13.86</td>\n",
              "      <td>59.20</td>\n",
              "      <td>260.9</td>\n",
              "      <td>0.07721</td>\n",
              "      <td>0.08751</td>\n",
              "      <td>0.05988</td>\n",
              "      <td>0.02180</td>\n",
              "      <td>0.2341</td>\n",
              "      <td>0.06963</td>\n",
              "      <td>...</td>\n",
              "      <td>10.01</td>\n",
              "      <td>19.23</td>\n",
              "      <td>65.59</td>\n",
              "      <td>310.1</td>\n",
              "      <td>0.09836</td>\n",
              "      <td>0.16780</td>\n",
              "      <td>0.13970</td>\n",
              "      <td>0.05087</td>\n",
              "      <td>0.3282</td>\n",
              "      <td>0.08490</td>\n",
              "    </tr>\n",
              "    <tr>\n",
              "      <th>248</th>\n",
              "      <td>10.650</td>\n",
              "      <td>25.22</td>\n",
              "      <td>68.01</td>\n",
              "      <td>347.0</td>\n",
              "      <td>0.09657</td>\n",
              "      <td>0.07234</td>\n",
              "      <td>0.02379</td>\n",
              "      <td>0.01615</td>\n",
              "      <td>0.1897</td>\n",
              "      <td>0.06329</td>\n",
              "      <td>...</td>\n",
              "      <td>12.25</td>\n",
              "      <td>35.19</td>\n",
              "      <td>77.98</td>\n",
              "      <td>455.7</td>\n",
              "      <td>0.14990</td>\n",
              "      <td>0.13980</td>\n",
              "      <td>0.11250</td>\n",
              "      <td>0.06136</td>\n",
              "      <td>0.3409</td>\n",
              "      <td>0.08147</td>\n",
              "    </tr>\n",
              "    <tr>\n",
              "      <th>60</th>\n",
              "      <td>10.170</td>\n",
              "      <td>14.88</td>\n",
              "      <td>64.55</td>\n",
              "      <td>311.9</td>\n",
              "      <td>0.11340</td>\n",
              "      <td>0.08061</td>\n",
              "      <td>0.01084</td>\n",
              "      <td>0.01290</td>\n",
              "      <td>0.2743</td>\n",
              "      <td>0.06960</td>\n",
              "      <td>...</td>\n",
              "      <td>11.02</td>\n",
              "      <td>17.45</td>\n",
              "      <td>69.86</td>\n",
              "      <td>368.6</td>\n",
              "      <td>0.12750</td>\n",
              "      <td>0.09866</td>\n",
              "      <td>0.02168</td>\n",
              "      <td>0.02579</td>\n",
              "      <td>0.3557</td>\n",
              "      <td>0.08020</td>\n",
              "    </tr>\n",
              "  </tbody>\n",
              "</table>\n",
              "<p>5 rows × 30 columns</p>\n",
              "</div>\n",
              "    <div class=\"colab-df-buttons\">\n",
              "\n",
              "  <div class=\"colab-df-container\">\n",
              "    <button class=\"colab-df-convert\" onclick=\"convertToInteractive('df-2022a248-8b77-4074-a92e-f862c755bb1c')\"\n",
              "            title=\"Convert this dataframe to an interactive table.\"\n",
              "            style=\"display:none;\">\n",
              "\n",
              "  <svg xmlns=\"http://www.w3.org/2000/svg\" height=\"24px\" viewBox=\"0 -960 960 960\">\n",
              "    <path d=\"M120-120v-720h720v720H120Zm60-500h600v-160H180v160Zm220 220h160v-160H400v160Zm0 220h160v-160H400v160ZM180-400h160v-160H180v160Zm440 0h160v-160H620v160ZM180-180h160v-160H180v160Zm440 0h160v-160H620v160Z\"/>\n",
              "  </svg>\n",
              "    </button>\n",
              "\n",
              "  <style>\n",
              "    .colab-df-container {\n",
              "      display:flex;\n",
              "      gap: 12px;\n",
              "    }\n",
              "\n",
              "    .colab-df-convert {\n",
              "      background-color: #E8F0FE;\n",
              "      border: none;\n",
              "      border-radius: 50%;\n",
              "      cursor: pointer;\n",
              "      display: none;\n",
              "      fill: #1967D2;\n",
              "      height: 32px;\n",
              "      padding: 0 0 0 0;\n",
              "      width: 32px;\n",
              "    }\n",
              "\n",
              "    .colab-df-convert:hover {\n",
              "      background-color: #E2EBFA;\n",
              "      box-shadow: 0px 1px 2px rgba(60, 64, 67, 0.3), 0px 1px 3px 1px rgba(60, 64, 67, 0.15);\n",
              "      fill: #174EA6;\n",
              "    }\n",
              "\n",
              "    .colab-df-buttons div {\n",
              "      margin-bottom: 4px;\n",
              "    }\n",
              "\n",
              "    [theme=dark] .colab-df-convert {\n",
              "      background-color: #3B4455;\n",
              "      fill: #D2E3FC;\n",
              "    }\n",
              "\n",
              "    [theme=dark] .colab-df-convert:hover {\n",
              "      background-color: #434B5C;\n",
              "      box-shadow: 0px 1px 3px 1px rgba(0, 0, 0, 0.15);\n",
              "      filter: drop-shadow(0px 1px 2px rgba(0, 0, 0, 0.3));\n",
              "      fill: #FFFFFF;\n",
              "    }\n",
              "  </style>\n",
              "\n",
              "    <script>\n",
              "      const buttonEl =\n",
              "        document.querySelector('#df-2022a248-8b77-4074-a92e-f862c755bb1c button.colab-df-convert');\n",
              "      buttonEl.style.display =\n",
              "        google.colab.kernel.accessAllowed ? 'block' : 'none';\n",
              "\n",
              "      async function convertToInteractive(key) {\n",
              "        const element = document.querySelector('#df-2022a248-8b77-4074-a92e-f862c755bb1c');\n",
              "        const dataTable =\n",
              "          await google.colab.kernel.invokeFunction('convertToInteractive',\n",
              "                                                    [key], {});\n",
              "        if (!dataTable) return;\n",
              "\n",
              "        const docLinkHtml = 'Like what you see? Visit the ' +\n",
              "          '<a target=\"_blank\" href=https://colab.research.google.com/notebooks/data_table.ipynb>data table notebook</a>'\n",
              "          + ' to learn more about interactive tables.';\n",
              "        element.innerHTML = '';\n",
              "        dataTable['output_type'] = 'display_data';\n",
              "        await google.colab.output.renderOutput(dataTable, element);\n",
              "        const docLink = document.createElement('div');\n",
              "        docLink.innerHTML = docLinkHtml;\n",
              "        element.appendChild(docLink);\n",
              "      }\n",
              "    </script>\n",
              "  </div>\n",
              "\n",
              "\n",
              "<div id=\"df-88000ce8-f48c-4110-909c-7f1d59df7c60\">\n",
              "  <button class=\"colab-df-quickchart\" onclick=\"quickchart('df-88000ce8-f48c-4110-909c-7f1d59df7c60')\"\n",
              "            title=\"Suggest charts.\"\n",
              "            style=\"display:none;\">\n",
              "\n",
              "<svg xmlns=\"http://www.w3.org/2000/svg\" height=\"24px\"viewBox=\"0 0 24 24\"\n",
              "     width=\"24px\">\n",
              "    <g>\n",
              "        <path d=\"M19 3H5c-1.1 0-2 .9-2 2v14c0 1.1.9 2 2 2h14c1.1 0 2-.9 2-2V5c0-1.1-.9-2-2-2zM9 17H7v-7h2v7zm4 0h-2V7h2v10zm4 0h-2v-4h2v4z\"/>\n",
              "    </g>\n",
              "</svg>\n",
              "  </button>\n",
              "\n",
              "<style>\n",
              "  .colab-df-quickchart {\n",
              "      --bg-color: #E8F0FE;\n",
              "      --fill-color: #1967D2;\n",
              "      --hover-bg-color: #E2EBFA;\n",
              "      --hover-fill-color: #174EA6;\n",
              "      --disabled-fill-color: #AAA;\n",
              "      --disabled-bg-color: #DDD;\n",
              "  }\n",
              "\n",
              "  [theme=dark] .colab-df-quickchart {\n",
              "      --bg-color: #3B4455;\n",
              "      --fill-color: #D2E3FC;\n",
              "      --hover-bg-color: #434B5C;\n",
              "      --hover-fill-color: #FFFFFF;\n",
              "      --disabled-bg-color: #3B4455;\n",
              "      --disabled-fill-color: #666;\n",
              "  }\n",
              "\n",
              "  .colab-df-quickchart {\n",
              "    background-color: var(--bg-color);\n",
              "    border: none;\n",
              "    border-radius: 50%;\n",
              "    cursor: pointer;\n",
              "    display: none;\n",
              "    fill: var(--fill-color);\n",
              "    height: 32px;\n",
              "    padding: 0;\n",
              "    width: 32px;\n",
              "  }\n",
              "\n",
              "  .colab-df-quickchart:hover {\n",
              "    background-color: var(--hover-bg-color);\n",
              "    box-shadow: 0 1px 2px rgba(60, 64, 67, 0.3), 0 1px 3px 1px rgba(60, 64, 67, 0.15);\n",
              "    fill: var(--button-hover-fill-color);\n",
              "  }\n",
              "\n",
              "  .colab-df-quickchart-complete:disabled,\n",
              "  .colab-df-quickchart-complete:disabled:hover {\n",
              "    background-color: var(--disabled-bg-color);\n",
              "    fill: var(--disabled-fill-color);\n",
              "    box-shadow: none;\n",
              "  }\n",
              "\n",
              "  .colab-df-spinner {\n",
              "    border: 2px solid var(--fill-color);\n",
              "    border-color: transparent;\n",
              "    border-bottom-color: var(--fill-color);\n",
              "    animation:\n",
              "      spin 1s steps(1) infinite;\n",
              "  }\n",
              "\n",
              "  @keyframes spin {\n",
              "    0% {\n",
              "      border-color: transparent;\n",
              "      border-bottom-color: var(--fill-color);\n",
              "      border-left-color: var(--fill-color);\n",
              "    }\n",
              "    20% {\n",
              "      border-color: transparent;\n",
              "      border-left-color: var(--fill-color);\n",
              "      border-top-color: var(--fill-color);\n",
              "    }\n",
              "    30% {\n",
              "      border-color: transparent;\n",
              "      border-left-color: var(--fill-color);\n",
              "      border-top-color: var(--fill-color);\n",
              "      border-right-color: var(--fill-color);\n",
              "    }\n",
              "    40% {\n",
              "      border-color: transparent;\n",
              "      border-right-color: var(--fill-color);\n",
              "      border-top-color: var(--fill-color);\n",
              "    }\n",
              "    60% {\n",
              "      border-color: transparent;\n",
              "      border-right-color: var(--fill-color);\n",
              "    }\n",
              "    80% {\n",
              "      border-color: transparent;\n",
              "      border-right-color: var(--fill-color);\n",
              "      border-bottom-color: var(--fill-color);\n",
              "    }\n",
              "    90% {\n",
              "      border-color: transparent;\n",
              "      border-bottom-color: var(--fill-color);\n",
              "    }\n",
              "  }\n",
              "</style>\n",
              "\n",
              "  <script>\n",
              "    async function quickchart(key) {\n",
              "      const quickchartButtonEl =\n",
              "        document.querySelector('#' + key + ' button');\n",
              "      quickchartButtonEl.disabled = true;  // To prevent multiple clicks.\n",
              "      quickchartButtonEl.classList.add('colab-df-spinner');\n",
              "      try {\n",
              "        const charts = await google.colab.kernel.invokeFunction(\n",
              "            'suggestCharts', [key], {});\n",
              "      } catch (error) {\n",
              "        console.error('Error during call to suggestCharts:', error);\n",
              "      }\n",
              "      quickchartButtonEl.classList.remove('colab-df-spinner');\n",
              "      quickchartButtonEl.classList.add('colab-df-quickchart-complete');\n",
              "    }\n",
              "    (() => {\n",
              "      let quickchartButtonEl =\n",
              "        document.querySelector('#df-88000ce8-f48c-4110-909c-7f1d59df7c60 button');\n",
              "      quickchartButtonEl.style.display =\n",
              "        google.colab.kernel.accessAllowed ? 'block' : 'none';\n",
              "    })();\n",
              "  </script>\n",
              "</div>\n",
              "    </div>\n",
              "  </div>\n"
            ]
          },
          "metadata": {},
          "execution_count": 6
        }
      ]
    },
    {
      "cell_type": "markdown",
      "source": [
        "I will analyze now the target values in the dataset jost to know whether the dataset is imbalanced, and to define wether it is important to transform this data into numerical values."
      ],
      "metadata": {
        "id": "WqSUakjHeXih"
      }
    },
    {
      "cell_type": "code",
      "source": [
        "#frequency of diagnosis\n",
        "frequ_diagnosis_train = y_train['Diagnosis'].value_counts()\n",
        "print(frequ_diagnosis_train)\n",
        "frequ_diagnosis_test = y_test['Diagnosis'].value_counts()\n",
        "print(frequ_diagnosis_test)"
      ],
      "metadata": {
        "colab": {
          "base_uri": "https://localhost:8080/"
        },
        "id": "pH8jN5ndbrJA",
        "outputId": "d3727d99-4490-425d-eeba-24fa3e2128fa"
      },
      "execution_count": 7,
      "outputs": [
        {
          "output_type": "stream",
          "name": "stdout",
          "text": [
            "B    286\n",
            "M    169\n",
            "Name: Diagnosis, dtype: int64\n",
            "B    71\n",
            "M    43\n",
            "Name: Diagnosis, dtype: int64\n"
          ]
        }
      ]
    },
    {
      "cell_type": "markdown",
      "source": [
        "## Creating the Logistic Regression Classifier"
      ],
      "metadata": {
        "id": "bQ4Y-0nna3Lx"
      }
    },
    {
      "cell_type": "markdown",
      "source": [
        "In the following block of code I will create the basic logistic regression classifier as lr_classifier, train the model using the train datasets and create the predicted targets"
      ],
      "metadata": {
        "id": "CsymEpnxgUAL"
      }
    },
    {
      "cell_type": "code",
      "source": [
        "lr_classifier = LogisticRegression()\n",
        "lr_classifier.fit(x_train,y_train)\n",
        "y_predicted_lr = lr_classifier.predict(x_test)\n",
        "print(y_predicted_lr)"
      ],
      "metadata": {
        "colab": {
          "base_uri": "https://localhost:8080/"
        },
        "id": "DbTOZBFMbVLe",
        "outputId": "55d64e11-933f-4492-be00-2b930767f2ff"
      },
      "execution_count": 8,
      "outputs": [
        {
          "output_type": "stream",
          "name": "stdout",
          "text": [
            "['B' 'M' 'M' 'B' 'B' 'M' 'M' 'M' 'B' 'B' 'B' 'M' 'B' 'M' 'B' 'M' 'B' 'B'\n",
            " 'B' 'M' 'B' 'B' 'M' 'B' 'B' 'B' 'B' 'B' 'B' 'M' 'B' 'B' 'B' 'B' 'B' 'B'\n",
            " 'M' 'B' 'M' 'B' 'B' 'M' 'B' 'B' 'B' 'B' 'B' 'B' 'B' 'B' 'M' 'M' 'B' 'B'\n",
            " 'B' 'B' 'B' 'M' 'B' 'B' 'B' 'M' 'M' 'B' 'B' 'B' 'M' 'M' 'B' 'B' 'M' 'M'\n",
            " 'B' 'M' 'B' 'B' 'B' 'B' 'B' 'B' 'M' 'B' 'M' 'M' 'M' 'M' 'M' 'M' 'B' 'B'\n",
            " 'B' 'B' 'B' 'B' 'B' 'B' 'M' 'M' 'B' 'M' 'M' 'B' 'M' 'M' 'B' 'B' 'B' 'M'\n",
            " 'B' 'B' 'M' 'B' 'M' 'M']\n"
          ]
        },
        {
          "output_type": "stream",
          "name": "stderr",
          "text": [
            "/usr/local/lib/python3.10/dist-packages/sklearn/utils/validation.py:1143: DataConversionWarning: A column-vector y was passed when a 1d array was expected. Please change the shape of y to (n_samples, ), for example using ravel().\n",
            "  y = column_or_1d(y, warn=True)\n",
            "/usr/local/lib/python3.10/dist-packages/sklearn/linear_model/_logistic.py:458: ConvergenceWarning: lbfgs failed to converge (status=1):\n",
            "STOP: TOTAL NO. of ITERATIONS REACHED LIMIT.\n",
            "\n",
            "Increase the number of iterations (max_iter) or scale the data as shown in:\n",
            "    https://scikit-learn.org/stable/modules/preprocessing.html\n",
            "Please also refer to the documentation for alternative solver options:\n",
            "    https://scikit-learn.org/stable/modules/linear_model.html#logistic-regression\n",
            "  n_iter_i = _check_optimize_result(\n"
          ]
        }
      ]
    },
    {
      "cell_type": "code",
      "source": [
        "cm_lr = confusion_matrix(y_test,y_predicted_lr)\n",
        "cm_lr_display = metrics.ConfusionMatrixDisplay(confusion_matrix = cm_lr ,display_labels=[False,True])\n",
        "cm_lr_display.plot()\n",
        "plt.title('Logistic Regression Confussion Matrix')\n",
        "plt.show()"
      ],
      "metadata": {
        "colab": {
          "base_uri": "https://localhost:8080/",
          "height": 472
        },
        "id": "ucMk2mnagJ3X",
        "outputId": "97cdaeef-cf03-4b69-c10f-aab71656eb5e"
      },
      "execution_count": 9,
      "outputs": [
        {
          "output_type": "display_data",
          "data": {
            "text/plain": [
              "<Figure size 640x480 with 2 Axes>"
            ],
            "image/png": "[encoded data removed]"
          },
          "metadata": {}
        }
      ]
    },
    {
      "cell_type": "code",
      "source": [
        "print(classification_report(y_test,y_predicted_lr))"
      ],
      "metadata": {
        "colab": {
          "base_uri": "https://localhost:8080/"
        },
        "id": "sPIZ_Llg_3sq",
        "outputId": "d62d7f06-d1c1-4a4f-8af7-433b7dc921cb"
      },
      "execution_count": 10,
      "outputs": [
        {
          "output_type": "stream",
          "name": "stdout",
          "text": [
            "              precision    recall  f1-score   support\n",
            "\n",
            "           B       0.96      0.99      0.97        71\n",
            "           M       0.98      0.93      0.95        43\n",
            "\n",
            "    accuracy                           0.96       114\n",
            "   macro avg       0.97      0.96      0.96       114\n",
            "weighted avg       0.97      0.96      0.96       114\n",
            "\n"
          ]
        }
      ]
    },
    {
      "cell_type": "markdown",
      "source": [
        "## Creating the Support Vector Machine Classifier"
      ],
      "metadata": {
        "id": "CC8eXly4ielQ"
      }
    },
    {
      "cell_type": "markdown",
      "source": [
        "### Hyperparameter tuning for SVM"
      ],
      "metadata": {
        "id": "QYBVbLyvxMD7"
      }
    },
    {
      "cell_type": "code",
      "source": [
        "svm_grid = {'C': [0.1,1,10,100],\n",
        "            'gamma': [0.0001,0.001,0.01,0.1,1],\n",
        "            'kernel':['rbf']}\n",
        "svm_hypertun = GridSearchCV(SVC(),svm_grid,refit=True,verbose = 3)\n",
        "svm_hypertun.fit(x_train,y_train)\n"
      ],
      "metadata": {
        "id": "gv5b9rM-ijE2"
      },
      "execution_count": null,
      "outputs": []
    },
    {
      "cell_type": "code",
      "source": [
        "print(svm_hypertun.best_params_)"
      ],
      "metadata": {
        "colab": {
          "base_uri": "https://localhost:8080/"
        },
        "id": "A8v8KmwRxTQx",
        "outputId": "3cc705a0-2e4c-4779-8657-be648c18adaf"
      },
      "execution_count": 12,
      "outputs": [
        {
          "output_type": "stream",
          "name": "stdout",
          "text": [
            "{'C': 10, 'gamma': 0.0001, 'kernel': 'rbf'}\n"
          ]
        }
      ]
    },
    {
      "cell_type": "markdown",
      "source": [
        "These are the parameters that I will use in the SVM classificator to predict the new values in the test dataset"
      ],
      "metadata": {
        "id": "F4qUjSFCxoaM"
      }
    },
    {
      "cell_type": "markdown",
      "source": [
        "### Predicting using SVM and analyzing the results"
      ],
      "metadata": {
        "id": "RUDhHYV8x4XG"
      }
    },
    {
      "cell_type": "code",
      "source": [
        "svm_classifier = SVC(C = 10,kernel ='rbf',gamma = 0.0001)\n",
        "svm_classifier.fit(x_train,y_train)\n",
        "y_predicted_svm = svm_classifier.predict(x_test)\n"
      ],
      "metadata": {
        "colab": {
          "base_uri": "https://localhost:8080/"
        },
        "id": "QlB-fvLax8p-",
        "outputId": "54120b9e-8089-44d3-b99b-c60607595133"
      },
      "execution_count": 13,
      "outputs": [
        {
          "output_type": "stream",
          "name": "stderr",
          "text": [
            "/usr/local/lib/python3.10/dist-packages/sklearn/utils/validation.py:1143: DataConversionWarning: A column-vector y was passed when a 1d array was expected. Please change the shape of y to (n_samples, ), for example using ravel().\n",
            "  y = column_or_1d(y, warn=True)\n"
          ]
        }
      ]
    },
    {
      "cell_type": "code",
      "source": [
        "cm_svm = confusion_matrix(y_test,y_predicted_svm)\n",
        "cm_svm_display = metrics.ConfusionMatrixDisplay(confusion_matrix= cm_svm,display_labels = [False,True])\n",
        "cm_svm_display.plot()\n",
        "plt.title('Confusion Matrix for SVM classifier')\n",
        "plt.show()"
      ],
      "metadata": {
        "colab": {
          "base_uri": "https://localhost:8080/",
          "height": 472
        },
        "id": "bNqkz0x1yn8D",
        "outputId": "fa24cf2a-92a8-408e-cba1-6d6497d327b7"
      },
      "execution_count": 14,
      "outputs": [
        {
          "output_type": "display_data",
          "data": {
            "text/plain": [
              "<Figure size 640x480 with 2 Axes>"
            ],
            "image/png": "[encoded data removed]"
          },
          "metadata": {}
        }
      ]
    },
    {
      "cell_type": "code",
      "source": [
        "print(classification_report(y_test,y_predicted_svm))"
      ],
      "metadata": {
        "colab": {
          "base_uri": "https://localhost:8080/"
        },
        "id": "mKiViQnYAFTl",
        "outputId": "a2b6e9b2-7c9c-42da-fa74-662168c1b9b5"
      },
      "execution_count": 15,
      "outputs": [
        {
          "output_type": "stream",
          "name": "stdout",
          "text": [
            "              precision    recall  f1-score   support\n",
            "\n",
            "           B       0.95      0.97      0.96        71\n",
            "           M       0.95      0.91      0.93        43\n",
            "\n",
            "    accuracy                           0.95       114\n",
            "   macro avg       0.95      0.94      0.94       114\n",
            "weighted avg       0.95      0.95      0.95       114\n",
            "\n"
          ]
        }
      ]
    },
    {
      "cell_type": "markdown",
      "source": [
        "## K Nearest Neighbors Classifier"
      ],
      "metadata": {
        "id": "9xsQ2T7szg9h"
      }
    },
    {
      "cell_type": "markdown",
      "source": [
        "### Preprocessing the data"
      ],
      "metadata": {
        "id": "vJ_F21Da4Cn7"
      }
    },
    {
      "cell_type": "markdown",
      "source": [
        "One important characteristic of the KNN classifier is that as it measures the distance to classify a new value into a specific category, the scale of each measure can affect this distance. So, in order to create an accurate KNN classifier, first I will re-scale all data to have mean 0 and std = 1."
      ],
      "metadata": {
        "id": "gUjbFus30yxP"
      }
    },
    {
      "cell_type": "code",
      "source": [
        "scaler = StandardScaler()\n",
        "x_train_scaled = pd.DataFrame(scaler.fit_transform(x_train),columns = x_train.columns)\n",
        "x_test_scaled = pd.DataFrame(scaler.fit_transform(x_test),columns = x_test.columns)\n",
        "#now lets confirm whether the dataset is properly transformed\n",
        "x_train_scaled.describe()"
      ],
      "metadata": {
        "colab": {
          "base_uri": "https://localhost:8080/",
          "height": 349
        },
        "id": "PeSSqa7U3AFg",
        "outputId": "a5c0497e-4115-425e-dd03-024919a5f231"
      },
      "execution_count": 16,
      "outputs": [
        {
          "output_type": "execute_result",
          "data": {
            "text/plain": [
              "            radius1      texture1    perimeter1         area1   smoothness1  \\\n",
              "count  4.550000e+02  4.550000e+02  4.550000e+02  4.550000e+02  4.550000e+02   \n",
              "mean  -3.162306e-16 -3.513673e-17 -1.132183e-16  3.669836e-16 -2.381489e-16   \n",
              "std    1.001101e+00  1.001101e+00  1.001101e+00  1.001101e+00  1.001101e+00   \n",
              "min   -1.819583e+00 -2.223500e+00 -1.809497e+00 -1.365036e+00 -3.100011e+00   \n",
              "25%   -6.830930e-01 -7.075360e-01 -6.907613e-01 -6.602049e-01 -7.132037e-01   \n",
              "50%   -2.314983e-01 -1.185158e-01 -2.429378e-01 -2.895973e-01 -8.082013e-02   \n",
              "75%    4.593426e-01  5.631988e-01  4.884799e-01  3.193386e-01  6.331729e-01   \n",
              "max    3.961679e+00  4.715674e+00  3.976811e+00  5.208312e+00  4.864642e+00   \n",
              "\n",
              "       compactness1    concavity1  concave_points1     symmetry1  \\\n",
              "count  4.550000e+02  4.550000e+02     4.550000e+02  4.550000e+02   \n",
              "mean  -4.294489e-17 -5.953723e-17     2.225326e-16  1.444510e-16   \n",
              "std    1.001101e+00  1.001101e+00     1.001101e+00  1.001101e+00   \n",
              "min   -1.607228e+00 -1.119899e+00    -1.269910e+00 -2.345430e+00   \n",
              "25%   -7.770872e-01 -7.505387e-01    -7.349048e-01 -7.010461e-01   \n",
              "50%   -2.413402e-01 -3.446456e-01    -3.911235e-01 -6.915087e-02   \n",
              "75%    5.281282e-01  5.473870e-01     6.737569e-01  5.354290e-01   \n",
              "max    3.964311e+00  4.256736e+00     4.022271e+00  4.476124e+00   \n",
              "\n",
              "       fractal_dimension1  ...       radius3      texture3    perimeter3  \\\n",
              "count        4.550000e+02  ...  4.550000e+02  4.550000e+02  4.550000e+02   \n",
              "mean         5.055785e-16  ... -7.027346e-17 -6.754060e-16 -2.928061e-17   \n",
              "std          1.001101e+00  ...  1.001101e+00  1.001101e+00  1.001101e+00   \n",
              "min         -1.776889e+00  ... -1.572438e+00 -2.230887e+00 -1.578174e+00   \n",
              "25%         -7.097920e-01  ... -6.616975e-01 -7.412292e-01 -6.853483e-01   \n",
              "50%         -1.772851e-01  ... -2.632354e-01 -5.210786e-02 -2.829543e-01   \n",
              "75%          4.642225e-01  ...  4.525400e-01  6.857059e-01  5.263332e-01   \n",
              "max          4.815921e+00  ...  4.120889e+00  3.962127e+00  4.322305e+00   \n",
              "\n",
              "              area3   smoothness3  compactness3    concavity3  \\\n",
              "count  4.550000e+02  4.550000e+02  4.550000e+02  4.550000e+02   \n",
              "mean   1.815398e-16 -1.561632e-17 -2.249727e-16 -7.612958e-17   \n",
              "std    1.001101e+00  1.001101e+00  1.001101e+00  1.001101e+00   \n",
              "min   -1.152259e+00 -2.617938e+00 -1.455995e+00 -1.312795e+00   \n",
              "25%   -6.358132e-01 -7.430298e-01 -6.961323e-01 -7.555873e-01   \n",
              "50%   -3.357508e-01 -2.741590e-02 -2.753858e-01 -2.304110e-01   \n",
              "75%    2.724862e-01  6.296478e-01  5.738568e-01  5.383496e-01   \n",
              "max    5.955420e+00  3.767506e+00  4.424833e+00  4.672828e+00   \n",
              "\n",
              "       concave_points3     symmetry3  fractal_dimension3  \n",
              "count     4.550000e+02  4.550000e+02        4.550000e+02  \n",
              "mean     -8.198570e-17  5.153387e-16        2.147245e-17  \n",
              "std       1.001101e+00  1.001101e+00        1.001101e+00  \n",
              "min      -1.749805e+00 -2.124261e+00       -1.616973e+00  \n",
              "25%      -7.700987e-01 -6.499846e-01       -7.189616e-01  \n",
              "50%      -2.386392e-01 -1.236838e-01       -2.135847e-01  \n",
              "75%       7.189995e-01  4.319440e-01        4.600643e-01  \n",
              "max       2.709674e+00  5.917679e+00        4.999482e+00  \n",
              "\n",
              "[8 rows x 30 columns]"
            ],
            "text/html": [
              "\n",
              "  <div id=\"df-a4fc13fe-4015-4d94-88a2-4b56b34607e7\" class=\"colab-df-container\">\n",
              "    <div>\n",
              "<style scoped>\n",
              "    .dataframe tbody tr th:only-of-type {\n",
              "        vertical-align: middle;\n",
              "    }\n",
              "\n",
              "    .dataframe tbody tr th {\n",
              "        vertical-align: top;\n",
              "    }\n",
              "\n",
              "    .dataframe thead th {\n",
              "        text-align: right;\n",
              "    }\n",
              "</style>\n",
              "<table border=\"1\" class=\"dataframe\">\n",
              "  <thead>\n",
              "    <tr style=\"text-align: right;\">\n",
              "      <th></th>\n",
              "      <th>radius1</th>\n",
              "      <th>texture1</th>\n",
              "      <th>perimeter1</th>\n",
              "      <th>area1</th>\n",
              "      <th>smoothness1</th>\n",
              "      <th>compactness1</th>\n",
              "      <th>concavity1</th>\n",
              "      <th>concave_points1</th>\n",
              "      <th>symmetry1</th>\n",
              "      <th>fractal_dimension1</th>\n",
              "      <th>...</th>\n",
              "      <th>radius3</th>\n",
              "      <th>texture3</th>\n",
              "      <th>perimeter3</th>\n",
              "      <th>area3</th>\n",
              "      <th>smoothness3</th>\n",
              "      <th>compactness3</th>\n",
              "      <th>concavity3</th>\n",
              "      <th>concave_points3</th>\n",
              "      <th>symmetry3</th>\n",
              "      <th>fractal_dimension3</th>\n",
              "    </tr>\n",
              "  </thead>\n",
              "  <tbody>\n",
              "    <tr>\n",
              "      <th>count</th>\n",
              "      <td>4.550000e+02</td>\n",
              "      <td>4.550000e+02</td>\n",
              "      <td>4.550000e+02</td>\n",
              "      <td>4.550000e+02</td>\n",
              "      <td>4.550000e+02</td>\n",
              "      <td>4.550000e+02</td>\n",
              "      <td>4.550000e+02</td>\n",
              "      <td>4.550000e+02</td>\n",
              "      <td>4.550000e+02</td>\n",
              "      <td>4.550000e+02</td>\n",
              "      <td>...</td>\n",
              "      <td>4.550000e+02</td>\n",
              "      <td>4.550000e+02</td>\n",
              "      <td>4.550000e+02</td>\n",
              "      <td>4.550000e+02</td>\n",
              "      <td>4.550000e+02</td>\n",
              "      <td>4.550000e+02</td>\n",
              "      <td>4.550000e+02</td>\n",
              "      <td>4.550000e+02</td>\n",
              "      <td>4.550000e+02</td>\n",
              "      <td>4.550000e+02</td>\n",
              "    </tr>\n",
              "    <tr>\n",
              "      <th>mean</th>\n",
              "      <td>-3.162306e-16</td>\n",
              "      <td>-3.513673e-17</td>\n",
              "      <td>-1.132183e-16</td>\n",
              "      <td>3.669836e-16</td>\n",
              "      <td>-2.381489e-16</td>\n",
              "      <td>-4.294489e-17</td>\n",
              "      <td>-5.953723e-17</td>\n",
              "      <td>2.225326e-16</td>\n",
              "      <td>1.444510e-16</td>\n",
              "      <td>5.055785e-16</td>\n",
              "      <td>...</td>\n",
              "      <td>-7.027346e-17</td>\n",
              "      <td>-6.754060e-16</td>\n",
              "      <td>-2.928061e-17</td>\n",
              "      <td>1.815398e-16</td>\n",
              "      <td>-1.561632e-17</td>\n",
              "      <td>-2.249727e-16</td>\n",
              "      <td>-7.612958e-17</td>\n",
              "      <td>-8.198570e-17</td>\n",
              "      <td>5.153387e-16</td>\n",
              "      <td>2.147245e-17</td>\n",
              "    </tr>\n",
              "    <tr>\n",
              "      <th>std</th>\n",
              "      <td>1.001101e+00</td>\n",
              "      <td>1.001101e+00</td>\n",
              "      <td>1.001101e+00</td>\n",
              "      <td>1.001101e+00</td>\n",
              "      <td>1.001101e+00</td>\n",
              "      <td>1.001101e+00</td>\n",
              "      <td>1.001101e+00</td>\n",
              "      <td>1.001101e+00</td>\n",
              "      <td>1.001101e+00</td>\n",
              "      <td>1.001101e+00</td>\n",
              "      <td>...</td>\n",
              "      <td>1.001101e+00</td>\n",
              "      <td>1.001101e+00</td>\n",
              "      <td>1.001101e+00</td>\n",
              "      <td>1.001101e+00</td>\n",
              "      <td>1.001101e+00</td>\n",
              "      <td>1.001101e+00</td>\n",
              "      <td>1.001101e+00</td>\n",
              "      <td>1.001101e+00</td>\n",
              "      <td>1.001101e+00</td>\n",
              "      <td>1.001101e+00</td>\n",
              "    </tr>\n",
              "    <tr>\n",
              "      <th>min</th>\n",
              "      <td>-1.819583e+00</td>\n",
              "      <td>-2.223500e+00</td>\n",
              "      <td>-1.809497e+00</td>\n",
              "      <td>-1.365036e+00</td>\n",
              "      <td>-3.100011e+00</td>\n",
              "      <td>-1.607228e+00</td>\n",
              "      <td>-1.119899e+00</td>\n",
              "      <td>-1.269910e+00</td>\n",
              "      <td>-2.345430e+00</td>\n",
              "      <td>-1.776889e+00</td>\n",
              "      <td>...</td>\n",
              "      <td>-1.572438e+00</td>\n",
              "      <td>-2.230887e+00</td>\n",
              "      <td>-1.578174e+00</td>\n",
              "      <td>-1.152259e+00</td>\n",
              "      <td>-2.617938e+00</td>\n",
              "      <td>-1.455995e+00</td>\n",
              "      <td>-1.312795e+00</td>\n",
              "      <td>-1.749805e+00</td>\n",
              "      <td>-2.124261e+00</td>\n",
              "      <td>-1.616973e+00</td>\n",
              "    </tr>\n",
              "    <tr>\n",
              "      <th>25%</th>\n",
              "      <td>-6.830930e-01</td>\n",
              "      <td>-7.075360e-01</td>\n",
              "      <td>-6.907613e-01</td>\n",
              "      <td>-6.602049e-01</td>\n",
              "      <td>-7.132037e-01</td>\n",
              "      <td>-7.770872e-01</td>\n",
              "      <td>-7.505387e-01</td>\n",
              "      <td>-7.349048e-01</td>\n",
              "      <td>-7.010461e-01</td>\n",
              "      <td>-7.097920e-01</td>\n",
              "      <td>...</td>\n",
              "      <td>-6.616975e-01</td>\n",
              "      <td>-7.412292e-01</td>\n",
              "      <td>-6.853483e-01</td>\n",
              "      <td>-6.358132e-01</td>\n",
              "      <td>-7.430298e-01</td>\n",
              "      <td>-6.961323e-01</td>\n",
              "      <td>-7.555873e-01</td>\n",
              "      <td>-7.700987e-01</td>\n",
              "      <td>-6.499846e-01</td>\n",
              "      <td>-7.189616e-01</td>\n",
              "    </tr>\n",
              "    <tr>\n",
              "      <th>50%</th>\n",
              "      <td>-2.314983e-01</td>\n",
              "      <td>-1.185158e-01</td>\n",
              "      <td>-2.429378e-01</td>\n",
              "      <td>-2.895973e-01</td>\n",
              "      <td>-8.082013e-02</td>\n",
              "      <td>-2.413402e-01</td>\n",
              "      <td>-3.446456e-01</td>\n",
              "      <td>-3.911235e-01</td>\n",
              "      <td>-6.915087e-02</td>\n",
              "      <td>-1.772851e-01</td>\n",
              "      <td>...</td>\n",
              "      <td>-2.632354e-01</td>\n",
              "      <td>-5.210786e-02</td>\n",
              "      <td>-2.829543e-01</td>\n",
              "      <td>-3.357508e-01</td>\n",
              "      <td>-2.741590e-02</td>\n",
              "      <td>-2.753858e-01</td>\n",
              "      <td>-2.304110e-01</td>\n",
              "      <td>-2.386392e-01</td>\n",
              "      <td>-1.236838e-01</td>\n",
              "      <td>-2.135847e-01</td>\n",
              "    </tr>\n",
              "    <tr>\n",
              "      <th>75%</th>\n",
              "      <td>4.593426e-01</td>\n",
              "      <td>5.631988e-01</td>\n",
              "      <td>4.884799e-01</td>\n",
              "      <td>3.193386e-01</td>\n",
              "      <td>6.331729e-01</td>\n",
              "      <td>5.281282e-01</td>\n",
              "      <td>5.473870e-01</td>\n",
              "      <td>6.737569e-01</td>\n",
              "      <td>5.354290e-01</td>\n",
              "      <td>4.642225e-01</td>\n",
              "      <td>...</td>\n",
              "      <td>4.525400e-01</td>\n",
              "      <td>6.857059e-01</td>\n",
              "      <td>5.263332e-01</td>\n",
              "      <td>2.724862e-01</td>\n",
              "      <td>6.296478e-01</td>\n",
              "      <td>5.738568e-01</td>\n",
              "      <td>5.383496e-01</td>\n",
              "      <td>7.189995e-01</td>\n",
              "      <td>4.319440e-01</td>\n",
              "      <td>4.600643e-01</td>\n",
              "    </tr>\n",
              "    <tr>\n",
              "      <th>max</th>\n",
              "      <td>3.961679e+00</td>\n",
              "      <td>4.715674e+00</td>\n",
              "      <td>3.976811e+00</td>\n",
              "      <td>5.208312e+00</td>\n",
              "      <td>4.864642e+00</td>\n",
              "      <td>3.964311e+00</td>\n",
              "      <td>4.256736e+00</td>\n",
              "      <td>4.022271e+00</td>\n",
              "      <td>4.476124e+00</td>\n",
              "      <td>4.815921e+00</td>\n",
              "      <td>...</td>\n",
              "      <td>4.120889e+00</td>\n",
              "      <td>3.962127e+00</td>\n",
              "      <td>4.322305e+00</td>\n",
              "      <td>5.955420e+00</td>\n",
              "      <td>3.767506e+00</td>\n",
              "      <td>4.424833e+00</td>\n",
              "      <td>4.672828e+00</td>\n",
              "      <td>2.709674e+00</td>\n",
              "      <td>5.917679e+00</td>\n",
              "      <td>4.999482e+00</td>\n",
              "    </tr>\n",
              "  </tbody>\n",
              "</table>\n",
              "<p>8 rows × 30 columns</p>\n",
              "</div>\n",
              "    <div class=\"colab-df-buttons\">\n",
              "\n",
              "  <div class=\"colab-df-container\">\n",
              "    <button class=\"colab-df-convert\" onclick=\"convertToInteractive('df-a4fc13fe-4015-4d94-88a2-4b56b34607e7')\"\n",
              "            title=\"Convert this dataframe to an interactive table.\"\n",
              "            style=\"display:none;\">\n",
              "\n",
              "  <svg xmlns=\"http://www.w3.org/2000/svg\" height=\"24px\" viewBox=\"0 -960 960 960\">\n",
              "    <path d=\"M120-120v-720h720v720H120Zm60-500h600v-160H180v160Zm220 220h160v-160H400v160Zm0 220h160v-160H400v160ZM180-400h160v-160H180v160Zm440 0h160v-160H620v160ZM180-180h160v-160H180v160Zm440 0h160v-160H620v160Z\"/>\n",
              "  </svg>\n",
              "    </button>\n",
              "\n",
              "  <style>\n",
              "    .colab-df-container {\n",
              "      display:flex;\n",
              "      gap: 12px;\n",
              "    }\n",
              "\n",
              "    .colab-df-convert {\n",
              "      background-color: #E8F0FE;\n",
              "      border: none;\n",
              "      border-radius: 50%;\n",
              "      cursor: pointer;\n",
              "      display: none;\n",
              "      fill: #1967D2;\n",
              "      height: 32px;\n",
              "      padding: 0 0 0 0;\n",
              "      width: 32px;\n",
              "    }\n",
              "\n",
              "    .colab-df-convert:hover {\n",
              "      background-color: #E2EBFA;\n",
              "      box-shadow: 0px 1px 2px rgba(60, 64, 67, 0.3), 0px 1px 3px 1px rgba(60, 64, 67, 0.15);\n",
              "      fill: #174EA6;\n",
              "    }\n",
              "\n",
              "    .colab-df-buttons div {\n",
              "      margin-bottom: 4px;\n",
              "    }\n",
              "\n",
              "    [theme=dark] .colab-df-convert {\n",
              "      background-color: #3B4455;\n",
              "      fill: #D2E3FC;\n",
              "    }\n",
              "\n",
              "    [theme=dark] .colab-df-convert:hover {\n",
              "      background-color: #434B5C;\n",
              "      box-shadow: 0px 1px 3px 1px rgba(0, 0, 0, 0.15);\n",
              "      filter: drop-shadow(0px 1px 2px rgba(0, 0, 0, 0.3));\n",
              "      fill: #FFFFFF;\n",
              "    }\n",
              "  </style>\n",
              "\n",
              "    <script>\n",
              "      const buttonEl =\n",
              "        document.querySelector('#df-a4fc13fe-4015-4d94-88a2-4b56b34607e7 button.colab-df-convert');\n",
              "      buttonEl.style.display =\n",
              "        google.colab.kernel.accessAllowed ? 'block' : 'none';\n",
              "\n",
              "      async function convertToInteractive(key) {\n",
              "        const element = document.querySelector('#df-a4fc13fe-4015-4d94-88a2-4b56b34607e7');\n",
              "        const dataTable =\n",
              "          await google.colab.kernel.invokeFunction('convertToInteractive',\n",
              "                                                    [key], {});\n",
              "        if (!dataTable) return;\n",
              "\n",
              "        const docLinkHtml = 'Like what you see? Visit the ' +\n",
              "          '<a target=\"_blank\" href=https://colab.research.google.com/notebooks/data_table.ipynb>data table notebook</a>'\n",
              "          + ' to learn more about interactive tables.';\n",
              "        element.innerHTML = '';\n",
              "        dataTable['output_type'] = 'display_data';\n",
              "        await google.colab.output.renderOutput(dataTable, element);\n",
              "        const docLink = document.createElement('div');\n",
              "        docLink.innerHTML = docLinkHtml;\n",
              "        element.appendChild(docLink);\n",
              "      }\n",
              "    </script>\n",
              "  </div>\n",
              "\n",
              "\n",
              "<div id=\"df-495b71fe-f7a9-48db-b52c-5a6f9f7f53fa\">\n",
              "  <button class=\"colab-df-quickchart\" onclick=\"quickchart('df-495b71fe-f7a9-48db-b52c-5a6f9f7f53fa')\"\n",
              "            title=\"Suggest charts.\"\n",
              "            style=\"display:none;\">\n",
              "\n",
              "<svg xmlns=\"http://www.w3.org/2000/svg\" height=\"24px\"viewBox=\"0 0 24 24\"\n",
              "     width=\"24px\">\n",
              "    <g>\n",
              "        <path d=\"M19 3H5c-1.1 0-2 .9-2 2v14c0 1.1.9 2 2 2h14c1.1 0 2-.9 2-2V5c0-1.1-.9-2-2-2zM9 17H7v-7h2v7zm4 0h-2V7h2v10zm4 0h-2v-4h2v4z\"/>\n",
              "    </g>\n",
              "</svg>\n",
              "  </button>\n",
              "\n",
              "<style>\n",
              "  .colab-df-quickchart {\n",
              "      --bg-color: #E8F0FE;\n",
              "      --fill-color: #1967D2;\n",
              "      --hover-bg-color: #E2EBFA;\n",
              "      --hover-fill-color: #174EA6;\n",
              "      --disabled-fill-color: #AAA;\n",
              "      --disabled-bg-color: #DDD;\n",
              "  }\n",
              "\n",
              "  [theme=dark] .colab-df-quickchart {\n",
              "      --bg-color: #3B4455;\n",
              "      --fill-color: #D2E3FC;\n",
              "      --hover-bg-color: #434B5C;\n",
              "      --hover-fill-color: #FFFFFF;\n",
              "      --disabled-bg-color: #3B4455;\n",
              "      --disabled-fill-color: #666;\n",
              "  }\n",
              "\n",
              "  .colab-df-quickchart {\n",
              "    background-color: var(--bg-color);\n",
              "    border: none;\n",
              "    border-radius: 50%;\n",
              "    cursor: pointer;\n",
              "    display: none;\n",
              "    fill: var(--fill-color);\n",
              "    height: 32px;\n",
              "    padding: 0;\n",
              "    width: 32px;\n",
              "  }\n",
              "\n",
              "  .colab-df-quickchart:hover {\n",
              "    background-color: var(--hover-bg-color);\n",
              "    box-shadow: 0 1px 2px rgba(60, 64, 67, 0.3), 0 1px 3px 1px rgba(60, 64, 67, 0.15);\n",
              "    fill: var(--button-hover-fill-color);\n",
              "  }\n",
              "\n",
              "  .colab-df-quickchart-complete:disabled,\n",
              "  .colab-df-quickchart-complete:disabled:hover {\n",
              "    background-color: var(--disabled-bg-color);\n",
              "    fill: var(--disabled-fill-color);\n",
              "    box-shadow: none;\n",
              "  }\n",
              "\n",
              "  .colab-df-spinner {\n",
              "    border: 2px solid var(--fill-color);\n",
              "    border-color: transparent;\n",
              "    border-bottom-color: var(--fill-color);\n",
              "    animation:\n",
              "      spin 1s steps(1) infinite;\n",
              "  }\n",
              "\n",
              "  @keyframes spin {\n",
              "    0% {\n",
              "      border-color: transparent;\n",
              "      border-bottom-color: var(--fill-color);\n",
              "      border-left-color: var(--fill-color);\n",
              "    }\n",
              "    20% {\n",
              "      border-color: transparent;\n",
              "      border-left-color: var(--fill-color);\n",
              "      border-top-color: var(--fill-color);\n",
              "    }\n",
              "    30% {\n",
              "      border-color: transparent;\n",
              "      border-left-color: var(--fill-color);\n",
              "      border-top-color: var(--fill-color);\n",
              "      border-right-color: var(--fill-color);\n",
              "    }\n",
              "    40% {\n",
              "      border-color: transparent;\n",
              "      border-right-color: var(--fill-color);\n",
              "      border-top-color: var(--fill-color);\n",
              "    }\n",
              "    60% {\n",
              "      border-color: transparent;\n",
              "      border-right-color: var(--fill-color);\n",
              "    }\n",
              "    80% {\n",
              "      border-color: transparent;\n",
              "      border-right-color: var(--fill-color);\n",
              "      border-bottom-color: var(--fill-color);\n",
              "    }\n",
              "    90% {\n",
              "      border-color: transparent;\n",
              "      border-bottom-color: var(--fill-color);\n",
              "    }\n",
              "  }\n",
              "</style>\n",
              "\n",
              "  <script>\n",
              "    async function quickchart(key) {\n",
              "      const quickchartButtonEl =\n",
              "        document.querySelector('#' + key + ' button');\n",
              "      quickchartButtonEl.disabled = true;  // To prevent multiple clicks.\n",
              "      quickchartButtonEl.classList.add('colab-df-spinner');\n",
              "      try {\n",
              "        const charts = await google.colab.kernel.invokeFunction(\n",
              "            'suggestCharts', [key], {});\n",
              "      } catch (error) {\n",
              "        console.error('Error during call to suggestCharts:', error);\n",
              "      }\n",
              "      quickchartButtonEl.classList.remove('colab-df-spinner');\n",
              "      quickchartButtonEl.classList.add('colab-df-quickchart-complete');\n",
              "    }\n",
              "    (() => {\n",
              "      let quickchartButtonEl =\n",
              "        document.querySelector('#df-495b71fe-f7a9-48db-b52c-5a6f9f7f53fa button');\n",
              "      quickchartButtonEl.style.display =\n",
              "        google.colab.kernel.accessAllowed ? 'block' : 'none';\n",
              "    })();\n",
              "  </script>\n",
              "</div>\n",
              "    </div>\n",
              "  </div>\n"
            ]
          },
          "metadata": {},
          "execution_count": 16
        }
      ]
    },
    {
      "cell_type": "markdown",
      "source": [
        "### Finding the best K"
      ],
      "metadata": {
        "id": "cYMDZdoI51mp"
      }
    },
    {
      "cell_type": "code",
      "source": [
        "#creating a list of accuracy scores\n",
        "a = []\n",
        "for i in range(1,20):\n",
        "  knn_classifier = KNeighborsClassifier(n_neighbors=i)\n",
        "  knn_classifier.fit(x_train_scaled,y_train)\n",
        "  y_predicted_knn = knn_classifier.predict(x_test_scaled)\n",
        "  a.append(metrics.accuracy_score(y_test,y_predicted_knn))\n"
      ],
      "metadata": {
        "id": "6AJkuUFl53on"
      },
      "execution_count": null,
      "outputs": []
    },
    {
      "cell_type": "code",
      "source": [
        "for i in range(1,20):\n",
        "  print('accuracy for ' + str(i) + ' neighbors: ', str(a[i-1]))"
      ],
      "metadata": {
        "colab": {
          "base_uri": "https://localhost:8080/"
        },
        "id": "CpUMECPs7w3_",
        "outputId": "244822d8-df1c-4bcb-f4c6-dd651b43d62c"
      },
      "execution_count": 18,
      "outputs": [
        {
          "output_type": "stream",
          "name": "stdout",
          "text": [
            "accuracy for 1 neighbors:  0.9210526315789473\n",
            "accuracy for 2 neighbors:  0.9298245614035088\n",
            "accuracy for 3 neighbors:  0.956140350877193\n",
            "accuracy for 4 neighbors:  0.9385964912280702\n",
            "accuracy for 5 neighbors:  0.956140350877193\n",
            "accuracy for 6 neighbors:  0.956140350877193\n",
            "accuracy for 7 neighbors:  0.956140350877193\n",
            "accuracy for 8 neighbors:  0.956140350877193\n",
            "accuracy for 9 neighbors:  0.9649122807017544\n",
            "accuracy for 10 neighbors:  0.9385964912280702\n",
            "accuracy for 11 neighbors:  0.956140350877193\n",
            "accuracy for 12 neighbors:  0.9473684210526315\n",
            "accuracy for 13 neighbors:  0.956140350877193\n",
            "accuracy for 14 neighbors:  0.9473684210526315\n",
            "accuracy for 15 neighbors:  0.956140350877193\n",
            "accuracy for 16 neighbors:  0.9473684210526315\n",
            "accuracy for 17 neighbors:  0.9473684210526315\n",
            "accuracy for 18 neighbors:  0.9473684210526315\n",
            "accuracy for 19 neighbors:  0.9473684210526315\n"
          ]
        }
      ]
    },
    {
      "cell_type": "markdown",
      "source": [
        "According to this, I will use 9 neighbors in the KNN classifier as it gives the best accuracy"
      ],
      "metadata": {
        "id": "5U9s924O85Fm"
      }
    },
    {
      "cell_type": "markdown",
      "source": [
        "### Asessing the KNN classifier"
      ],
      "metadata": {
        "id": "NdfhjXr--QWx"
      }
    },
    {
      "cell_type": "code",
      "source": [
        "#Using the KNN classifier with number of neighbors equal to 9\n",
        "knn_classifier = KNeighborsClassifier(n_neighbors=9)\n",
        "knn_classifier.fit(x_train_scaled,y_train)\n",
        "y_predicted_knn = knn_classifier.predict(x_test_scaled)"
      ],
      "metadata": {
        "colab": {
          "base_uri": "https://localhost:8080/"
        },
        "id": "rBNt9sx29AZv",
        "outputId": "b7b88e78-cdf5-439c-d099-b0c5d7db06c5"
      },
      "execution_count": 19,
      "outputs": [
        {
          "output_type": "stream",
          "name": "stderr",
          "text": [
            "/usr/local/lib/python3.10/dist-packages/sklearn/neighbors/_classification.py:215: DataConversionWarning: A column-vector y was passed when a 1d array was expected. Please change the shape of y to (n_samples,), for example using ravel().\n",
            "  return self._fit(X, y)\n"
          ]
        }
      ]
    },
    {
      "cell_type": "code",
      "source": [
        "print(classification_report(y_test,y_predicted_knn))"
      ],
      "metadata": {
        "colab": {
          "base_uri": "https://localhost:8080/"
        },
        "id": "t4RK2Zq7-tD5",
        "outputId": "4b05931b-f636-4374-d7c4-64b699668104"
      },
      "execution_count": 20,
      "outputs": [
        {
          "output_type": "stream",
          "name": "stdout",
          "text": [
            "              precision    recall  f1-score   support\n",
            "\n",
            "           B       0.97      0.97      0.97        71\n",
            "           M       0.95      0.95      0.95        43\n",
            "\n",
            "    accuracy                           0.96       114\n",
            "   macro avg       0.96      0.96      0.96       114\n",
            "weighted avg       0.96      0.96      0.96       114\n",
            "\n"
          ]
        }
      ]
    },
    {
      "cell_type": "code",
      "source": [
        "cm_knn = confusion_matrix(y_test,y_predicted_knn)\n",
        "cm_knn_display = metrics.ConfusionMatrixDisplay(cm_knn,display_labels = [False,True])\n",
        "cm_knn_display.plot()\n",
        "plt.title(\"kNN CLASSIFIER (n=9) confusion matrix\")\n",
        "plt.show()"
      ],
      "metadata": {
        "colab": {
          "base_uri": "https://localhost:8080/",
          "height": 472
        },
        "id": "v_q71Col_Hgx",
        "outputId": "557a4a6f-dafd-4a31-8a3b-2db25bcef5eb"
      },
      "execution_count": 21,
      "outputs": [
        {
          "output_type": "display_data",
          "data": {
            "text/plain": [
              "<Figure size 640x480 with 2 Axes>"
            ],
            "image/png": "[encoded data removed]"
          },
          "metadata": {}
        }
      ]
    },
    {
      "cell_type": "markdown",
      "source": [
        "## Using the classifiers in a dimension-reduced dataset"
      ],
      "metadata": {
        "id": "QENtRLLAZ25W"
      }
    },
    {
      "cell_type": "markdown",
      "source": [
        "The first step to reduce the dimensionality of the dataset is to analyze the correlation between features. So, in the next piece of code I will hprint the heatma of the correlation matrix"
      ],
      "metadata": {
        "id": "5SXghFnbbxBQ"
      }
    },
    {
      "cell_type": "code",
      "source": [
        "correlation_dataset = X.corr()\n",
        "correlation_dataset.head()\n",
        "sns.heatmap(correlation_dataset)"
      ],
      "metadata": {
        "colab": {
          "base_uri": "https://localhost:8080/",
          "height": 531
        },
        "id": "4I-p5jnIbBM8",
        "outputId": "213d711a-cc25-45cc-c6bd-1df6a2416e9a"
      },
      "execution_count": 27,
      "outputs": [
        {
          "output_type": "execute_result",
          "data": {
            "text/plain": [
              "<Axes: >"
            ]
          },
          "metadata": {},
          "execution_count": 27
        },
        {
          "output_type": "display_data",
          "data": {
            "text/plain": [
              "<Figure size 640x480 with 2 Axes>"
            ],
            "image/png": "[encoded data removed]"
          },
          "metadata": {}
        }
      ]
    },
    {
      "cell_type": "markdown",
      "source": [
        "These results indicate that there are  features with high correlations, which (such as perimeter 1 and perimeter 3). So this means that tere are chances of reducing the dimensionality of the dataset.\n",
        "\n",
        "> Indented block\n",
        "\n",
        "\n"
      ],
      "metadata": {
        "id": "W-zAzMAQhU2D"
      }
    },
    {
      "cell_type": "markdown",
      "source": [
        "### Reduced dimensionality analysis for Logistic regression"
      ],
      "metadata": {
        "id": "naxWuiHai4rl"
      }
    },
    {
      "cell_type": "code",
      "source": [
        "#Importing the lbrary for reducing dimensionality\n",
        "from mlxtend.feature_selection import SequentialFeatureSelector"
      ],
      "metadata": {
        "id": "kTpKYyyJi_oa"
      },
      "execution_count": 29,
      "outputs": []
    },
    {
      "cell_type": "code",
      "source": [
        "lr_featureselection = SequentialFeatureSelector(LogisticRegression(),k_features=5,forward = True,scoring='accuracy',cv = None)\n",
        "lr_selectedfeatures = lr_featureselection.fit(x_train,y_train)"
      ],
      "metadata": {
        "id": "E8EnMWzzjNLJ"
      },
      "execution_count": null,
      "outputs": []
    },
    {
      "cell_type": "code",
      "source": [
        "print(list(lr_selectedfeatures.k_feature_names_))"
      ],
      "metadata": {
        "colab": {
          "base_uri": "https://localhost:8080/"
        },
        "id": "vHdYE9D0kqOY",
        "outputId": "be09a933-dd00-4d43-dc26-00725be22f57"
      },
      "execution_count": 40,
      "outputs": [
        {
          "output_type": "stream",
          "name": "stdout",
          "text": [
            "['radius1', 'perimeter1', 'radius3', 'texture3', 'concavity3']\n"
          ]
        }
      ]
    },
    {
      "cell_type": "code",
      "source": [
        "x_train_reduced_logreg = x_train[list(lr_selectedfeatures.k_feature_names_)]\n",
        "x_test_reduced_logreg = x_test[list(lr_selectedfeatures.k_feature_names_)]\n",
        "x_train_reduced_logreg.head(1)"
      ],
      "metadata": {
        "colab": {
          "base_uri": "https://localhost:8080/",
          "height": 80
        },
        "id": "KGZlnl1HmL4k",
        "outputId": "6120a71c-9cef-46da-b72e-d7d7b82b0af4"
      },
      "execution_count": 44,
      "outputs": [
        {
          "output_type": "execute_result",
          "data": {
            "text/plain": [
              "    radius1  perimeter1  radius3  texture3  concavity3\n",
              "68    9.029       58.79    10.31     22.65       1.252"
            ],
            "text/html": [
              "\n",
              "  <div id=\"df-4937c529-3173-41cc-a50e-397e5199cc0a\" class=\"colab-df-container\">\n",
              "    <div>\n",
              "<style scoped>\n",
              "    .dataframe tbody tr th:only-of-type {\n",
              "        vertical-align: middle;\n",
              "    }\n",
              "\n",
              "    .dataframe tbody tr th {\n",
              "        vertical-align: top;\n",
              "    }\n",
              "\n",
              "    .dataframe thead th {\n",
              "        text-align: right;\n",
              "    }\n",
              "</style>\n",
              "<table border=\"1\" class=\"dataframe\">\n",
              "  <thead>\n",
              "    <tr style=\"text-align: right;\">\n",
              "      <th></th>\n",
              "      <th>radius1</th>\n",
              "      <th>perimeter1</th>\n",
              "      <th>radius3</th>\n",
              "      <th>texture3</th>\n",
              "      <th>concavity3</th>\n",
              "    </tr>\n",
              "  </thead>\n",
              "  <tbody>\n",
              "    <tr>\n",
              "      <th>68</th>\n",
              "      <td>9.029</td>\n",
              "      <td>58.79</td>\n",
              "      <td>10.31</td>\n",
              "      <td>22.65</td>\n",
              "      <td>1.252</td>\n",
              "    </tr>\n",
              "  </tbody>\n",
              "</table>\n",
              "</div>\n",
              "    <div class=\"colab-df-buttons\">\n",
              "\n",
              "  <div class=\"colab-df-container\">\n",
              "    <button class=\"colab-df-convert\" onclick=\"convertToInteractive('df-4937c529-3173-41cc-a50e-397e5199cc0a')\"\n",
              "            title=\"Convert this dataframe to an interactive table.\"\n",
              "            style=\"display:none;\">\n",
              "\n",
              "  <svg xmlns=\"http://www.w3.org/2000/svg\" height=\"24px\" viewBox=\"0 -960 960 960\">\n",
              "    <path d=\"M120-120v-720h720v720H120Zm60-500h600v-160H180v160Zm220 220h160v-160H400v160Zm0 220h160v-160H400v160ZM180-400h160v-160H180v160Zm440 0h160v-160H620v160ZM180-180h160v-160H180v160Zm440 0h160v-160H620v160Z\"/>\n",
              "  </svg>\n",
              "    </button>\n",
              "\n",
              "  <style>\n",
              "    .colab-df-container {\n",
              "      display:flex;\n",
              "      gap: 12px;\n",
              "    }\n",
              "\n",
              "    .colab-df-convert {\n",
              "      background-color: #E8F0FE;\n",
              "      border: none;\n",
              "      border-radius: 50%;\n",
              "      cursor: pointer;\n",
              "      display: none;\n",
              "      fill: #1967D2;\n",
              "      height: 32px;\n",
              "      padding: 0 0 0 0;\n",
              "      width: 32px;\n",
              "    }\n",
              "\n",
              "    .colab-df-convert:hover {\n",
              "      background-color: #E2EBFA;\n",
              "      box-shadow: 0px 1px 2px rgba(60, 64, 67, 0.3), 0px 1px 3px 1px rgba(60, 64, 67, 0.15);\n",
              "      fill: #174EA6;\n",
              "    }\n",
              "\n",
              "    .colab-df-buttons div {\n",
              "      margin-bottom: 4px;\n",
              "    }\n",
              "\n",
              "    [theme=dark] .colab-df-convert {\n",
              "      background-color: #3B4455;\n",
              "      fill: #D2E3FC;\n",
              "    }\n",
              "\n",
              "    [theme=dark] .colab-df-convert:hover {\n",
              "      background-color: #434B5C;\n",
              "      box-shadow: 0px 1px 3px 1px rgba(0, 0, 0, 0.15);\n",
              "      filter: drop-shadow(0px 1px 2px rgba(0, 0, 0, 0.3));\n",
              "      fill: #FFFFFF;\n",
              "    }\n",
              "  </style>\n",
              "\n",
              "    <script>\n",
              "      const buttonEl =\n",
              "        document.querySelector('#df-4937c529-3173-41cc-a50e-397e5199cc0a button.colab-df-convert');\n",
              "      buttonEl.style.display =\n",
              "        google.colab.kernel.accessAllowed ? 'block' : 'none';\n",
              "\n",
              "      async function convertToInteractive(key) {\n",
              "        const element = document.querySelector('#df-4937c529-3173-41cc-a50e-397e5199cc0a');\n",
              "        const dataTable =\n",
              "          await google.colab.kernel.invokeFunction('convertToInteractive',\n",
              "                                                    [key], {});\n",
              "        if (!dataTable) return;\n",
              "\n",
              "        const docLinkHtml = 'Like what you see? Visit the ' +\n",
              "          '<a target=\"_blank\" href=https://colab.research.google.com/notebooks/data_table.ipynb>data table notebook</a>'\n",
              "          + ' to learn more about interactive tables.';\n",
              "        element.innerHTML = '';\n",
              "        dataTable['output_type'] = 'display_data';\n",
              "        await google.colab.output.renderOutput(dataTable, element);\n",
              "        const docLink = document.createElement('div');\n",
              "        docLink.innerHTML = docLinkHtml;\n",
              "        element.appendChild(docLink);\n",
              "      }\n",
              "    </script>\n",
              "  </div>\n",
              "\n",
              "    </div>\n",
              "  </div>\n"
            ]
          },
          "metadata": {},
          "execution_count": 44
        }
      ]
    },
    {
      "cell_type": "code",
      "source": [
        "#fitting and predicting y values with the logistic regression\n",
        "lr_clas_dimenred = LogisticRegression()\n",
        "lr_clas_dimenred.fit(x_train_reduced_logreg,y_train)\n",
        "y_predicted_lr_reduc = lr_clas_dimenred.predict(x_test_reduced_logreg)\n",
        "#asessing the classification with only 5 predictors\n",
        "print(classification_report(y_test,y_predicted_lr_reduc))"
      ],
      "metadata": {
        "colab": {
          "base_uri": "https://localhost:8080/"
        },
        "id": "V1lK95gkm1Mc",
        "outputId": "33560b27-24b1-4bc3-f26b-89a4a241feff"
      },
      "execution_count": 48,
      "outputs": [
        {
          "output_type": "stream",
          "name": "stdout",
          "text": [
            "              precision    recall  f1-score   support\n",
            "\n",
            "           B       0.96      0.99      0.97        71\n",
            "           M       0.98      0.93      0.95        43\n",
            "\n",
            "    accuracy                           0.96       114\n",
            "   macro avg       0.97      0.96      0.96       114\n",
            "weighted avg       0.97      0.96      0.96       114\n",
            "\n"
          ]
        },
        {
          "output_type": "stream",
          "name": "stderr",
          "text": [
            "/usr/local/lib/python3.10/dist-packages/sklearn/utils/validation.py:1143: DataConversionWarning: A column-vector y was passed when a 1d array was expected. Please change the shape of y to (n_samples, ), for example using ravel().\n",
            "  y = column_or_1d(y, warn=True)\n"
          ]
        }
      ]
    },
    {
      "cell_type": "markdown",
      "source": [
        "### Reduced-dimensionality analysis for SVM Classificator"
      ],
      "metadata": {
        "id": "-QZWZ6F2oXsl"
      }
    },
    {
      "cell_type": "markdown",
      "source": [
        "#### Finding the 5 most important features"
      ],
      "metadata": {
        "id": "prUu_mACqGhw"
      }
    },
    {
      "cell_type": "code",
      "source": [
        "svm_reduced_classificator = SequentialFeatureSelector(SVC(),k_features=5,forward = True,scoring ='accuracy',cv = None)\n",
        "svm_reduced_classificatorfitted = svm_reduced_classificator.fit(x_train,y_train)"
      ],
      "metadata": {
        "id": "6trpjee7la2T"
      },
      "execution_count": null,
      "outputs": []
    },
    {
      "cell_type": "code",
      "source": [
        "print(list(svm_reduced_classificatorfitted.k_feature_names_))"
      ],
      "metadata": {
        "colab": {
          "base_uri": "https://localhost:8080/"
        },
        "id": "BKt1yW-9qTas",
        "outputId": "2f4ed11c-be9f-44ce-83a6-8abd320194c5"
      },
      "execution_count": 51,
      "outputs": [
        {
          "output_type": "stream",
          "name": "stdout",
          "text": [
            "['radius1', 'texture1', 'perimeter2', 'radius3', 'texture3']\n"
          ]
        }
      ]
    },
    {
      "cell_type": "markdown",
      "source": [
        "Texture 1, perimeter 2, and texture 3, were not part of the reduced dataset for the logistic regression. Now let't take a look at the classification accuracy for the svm classifier applied over this new dataset"
      ],
      "metadata": {
        "id": "wyKmt3FhrJcc"
      }
    },
    {
      "cell_type": "markdown",
      "source": [
        "#### Reducing the dimensionality accordingly"
      ],
      "metadata": {
        "id": "PvmdsxXBqhfd"
      }
    },
    {
      "cell_type": "code",
      "source": [
        "x_train_reduced_svm = x_train[list(svm_reduced_classificatorfitted.k_feature_names_)]\n",
        "x_test_reduced_svm = x_test[list(svm_reduced_classificatorfitted.k_feature_names_)]\n",
        "x_train_reduced_svm.head(2)"
      ],
      "metadata": {
        "colab": {
          "base_uri": "https://localhost:8080/",
          "height": 112
        },
        "id": "wfHQTdRJqfhb",
        "outputId": "330c9bb1-c05c-48d7-803f-ba2fe2a771aa"
      },
      "execution_count": 65,
      "outputs": [
        {
          "output_type": "execute_result",
          "data": {
            "text/plain": [
              "     radius1  texture1  perimeter2  radius3  texture3\n",
              "68     9.029     17.33       1.885    10.31     22.65\n",
              "181   21.090     26.57       4.414    26.68     33.48"
            ],
            "text/html": [
              "\n",
              "  <div id=\"df-cf1e02c3-8a09-451b-a30c-4df6fcb2f034\" class=\"colab-df-container\">\n",
              "    <div>\n",
              "<style scoped>\n",
              "    .dataframe tbody tr th:only-of-type {\n",
              "        vertical-align: middle;\n",
              "    }\n",
              "\n",
              "    .dataframe tbody tr th {\n",
              "        vertical-align: top;\n",
              "    }\n",
              "\n",
              "    .dataframe thead th {\n",
              "        text-align: right;\n",
              "    }\n",
              "</style>\n",
              "<table border=\"1\" class=\"dataframe\">\n",
              "  <thead>\n",
              "    <tr style=\"text-align: right;\">\n",
              "      <th></th>\n",
              "      <th>radius1</th>\n",
              "      <th>texture1</th>\n",
              "      <th>perimeter2</th>\n",
              "      <th>radius3</th>\n",
              "      <th>texture3</th>\n",
              "    </tr>\n",
              "  </thead>\n",
              "  <tbody>\n",
              "    <tr>\n",
              "      <th>68</th>\n",
              "      <td>9.029</td>\n",
              "      <td>17.33</td>\n",
              "      <td>1.885</td>\n",
              "      <td>10.31</td>\n",
              "      <td>22.65</td>\n",
              "    </tr>\n",
              "    <tr>\n",
              "      <th>181</th>\n",
              "      <td>21.090</td>\n",
              "      <td>26.57</td>\n",
              "      <td>4.414</td>\n",
              "      <td>26.68</td>\n",
              "      <td>33.48</td>\n",
              "    </tr>\n",
              "  </tbody>\n",
              "</table>\n",
              "</div>\n",
              "    <div class=\"colab-df-buttons\">\n",
              "\n",
              "  <div class=\"colab-df-container\">\n",
              "    <button class=\"colab-df-convert\" onclick=\"convertToInteractive('df-cf1e02c3-8a09-451b-a30c-4df6fcb2f034')\"\n",
              "            title=\"Convert this dataframe to an interactive table.\"\n",
              "            style=\"display:none;\">\n",
              "\n",
              "  <svg xmlns=\"http://www.w3.org/2000/svg\" height=\"24px\" viewBox=\"0 -960 960 960\">\n",
              "    <path d=\"M120-120v-720h720v720H120Zm60-500h600v-160H180v160Zm220 220h160v-160H400v160Zm0 220h160v-160H400v160ZM180-400h160v-160H180v160Zm440 0h160v-160H620v160ZM180-180h160v-160H180v160Zm440 0h160v-160H620v160Z\"/>\n",
              "  </svg>\n",
              "    </button>\n",
              "\n",
              "  <style>\n",
              "    .colab-df-container {\n",
              "      display:flex;\n",
              "      gap: 12px;\n",
              "    }\n",
              "\n",
              "    .colab-df-convert {\n",
              "      background-color: #E8F0FE;\n",
              "      border: none;\n",
              "      border-radius: 50%;\n",
              "      cursor: pointer;\n",
              "      display: none;\n",
              "      fill: #1967D2;\n",
              "      height: 32px;\n",
              "      padding: 0 0 0 0;\n",
              "      width: 32px;\n",
              "    }\n",
              "\n",
              "    .colab-df-convert:hover {\n",
              "      background-color: #E2EBFA;\n",
              "      box-shadow: 0px 1px 2px rgba(60, 64, 67, 0.3), 0px 1px 3px 1px rgba(60, 64, 67, 0.15);\n",
              "      fill: #174EA6;\n",
              "    }\n",
              "\n",
              "    .colab-df-buttons div {\n",
              "      margin-bottom: 4px;\n",
              "    }\n",
              "\n",
              "    [theme=dark] .colab-df-convert {\n",
              "      background-color: #3B4455;\n",
              "      fill: #D2E3FC;\n",
              "    }\n",
              "\n",
              "    [theme=dark] .colab-df-convert:hover {\n",
              "      background-color: #434B5C;\n",
              "      box-shadow: 0px 1px 3px 1px rgba(0, 0, 0, 0.15);\n",
              "      filter: drop-shadow(0px 1px 2px rgba(0, 0, 0, 0.3));\n",
              "      fill: #FFFFFF;\n",
              "    }\n",
              "  </style>\n",
              "\n",
              "    <script>\n",
              "      const buttonEl =\n",
              "        document.querySelector('#df-cf1e02c3-8a09-451b-a30c-4df6fcb2f034 button.colab-df-convert');\n",
              "      buttonEl.style.display =\n",
              "        google.colab.kernel.accessAllowed ? 'block' : 'none';\n",
              "\n",
              "      async function convertToInteractive(key) {\n",
              "        const element = document.querySelector('#df-cf1e02c3-8a09-451b-a30c-4df6fcb2f034');\n",
              "        const dataTable =\n",
              "          await google.colab.kernel.invokeFunction('convertToInteractive',\n",
              "                                                    [key], {});\n",
              "        if (!dataTable) return;\n",
              "\n",
              "        const docLinkHtml = 'Like what you see? Visit the ' +\n",
              "          '<a target=\"_blank\" href=https://colab.research.google.com/notebooks/data_table.ipynb>data table notebook</a>'\n",
              "          + ' to learn more about interactive tables.';\n",
              "        element.innerHTML = '';\n",
              "        dataTable['output_type'] = 'display_data';\n",
              "        await google.colab.output.renderOutput(dataTable, element);\n",
              "        const docLink = document.createElement('div');\n",
              "        docLink.innerHTML = docLinkHtml;\n",
              "        element.appendChild(docLink);\n",
              "      }\n",
              "    </script>\n",
              "  </div>\n",
              "\n",
              "\n",
              "<div id=\"df-6e61d3ea-c5d7-48cd-bfb3-dd1ac97f3d30\">\n",
              "  <button class=\"colab-df-quickchart\" onclick=\"quickchart('df-6e61d3ea-c5d7-48cd-bfb3-dd1ac97f3d30')\"\n",
              "            title=\"Suggest charts.\"\n",
              "            style=\"display:none;\">\n",
              "\n",
              "<svg xmlns=\"http://www.w3.org/2000/svg\" height=\"24px\"viewBox=\"0 0 24 24\"\n",
              "     width=\"24px\">\n",
              "    <g>\n",
              "        <path d=\"M19 3H5c-1.1 0-2 .9-2 2v14c0 1.1.9 2 2 2h14c1.1 0 2-.9 2-2V5c0-1.1-.9-2-2-2zM9 17H7v-7h2v7zm4 0h-2V7h2v10zm4 0h-2v-4h2v4z\"/>\n",
              "    </g>\n",
              "</svg>\n",
              "  </button>\n",
              "\n",
              "<style>\n",
              "  .colab-df-quickchart {\n",
              "      --bg-color: #E8F0FE;\n",
              "      --fill-color: #1967D2;\n",
              "      --hover-bg-color: #E2EBFA;\n",
              "      --hover-fill-color: #174EA6;\n",
              "      --disabled-fill-color: #AAA;\n",
              "      --disabled-bg-color: #DDD;\n",
              "  }\n",
              "\n",
              "  [theme=dark] .colab-df-quickchart {\n",
              "      --bg-color: #3B4455;\n",
              "      --fill-color: #D2E3FC;\n",
              "      --hover-bg-color: #434B5C;\n",
              "      --hover-fill-color: #FFFFFF;\n",
              "      --disabled-bg-color: #3B4455;\n",
              "      --disabled-fill-color: #666;\n",
              "  }\n",
              "\n",
              "  .colab-df-quickchart {\n",
              "    background-color: var(--bg-color);\n",
              "    border: none;\n",
              "    border-radius: 50%;\n",
              "    cursor: pointer;\n",
              "    display: none;\n",
              "    fill: var(--fill-color);\n",
              "    height: 32px;\n",
              "    padding: 0;\n",
              "    width: 32px;\n",
              "  }\n",
              "\n",
              "  .colab-df-quickchart:hover {\n",
              "    background-color: var(--hover-bg-color);\n",
              "    box-shadow: 0 1px 2px rgba(60, 64, 67, 0.3), 0 1px 3px 1px rgba(60, 64, 67, 0.15);\n",
              "    fill: var(--button-hover-fill-color);\n",
              "  }\n",
              "\n",
              "  .colab-df-quickchart-complete:disabled,\n",
              "  .colab-df-quickchart-complete:disabled:hover {\n",
              "    background-color: var(--disabled-bg-color);\n",
              "    fill: var(--disabled-fill-color);\n",
              "    box-shadow: none;\n",
              "  }\n",
              "\n",
              "  .colab-df-spinner {\n",
              "    border: 2px solid var(--fill-color);\n",
              "    border-color: transparent;\n",
              "    border-bottom-color: var(--fill-color);\n",
              "    animation:\n",
              "      spin 1s steps(1) infinite;\n",
              "  }\n",
              "\n",
              "  @keyframes spin {\n",
              "    0% {\n",
              "      border-color: transparent;\n",
              "      border-bottom-color: var(--fill-color);\n",
              "      border-left-color: var(--fill-color);\n",
              "    }\n",
              "    20% {\n",
              "      border-color: transparent;\n",
              "      border-left-color: var(--fill-color);\n",
              "      border-top-color: var(--fill-color);\n",
              "    }\n",
              "    30% {\n",
              "      border-color: transparent;\n",
              "      border-left-color: var(--fill-color);\n",
              "      border-top-color: var(--fill-color);\n",
              "      border-right-color: var(--fill-color);\n",
              "    }\n",
              "    40% {\n",
              "      border-color: transparent;\n",
              "      border-right-color: var(--fill-color);\n",
              "      border-top-color: var(--fill-color);\n",
              "    }\n",
              "    60% {\n",
              "      border-color: transparent;\n",
              "      border-right-color: var(--fill-color);\n",
              "    }\n",
              "    80% {\n",
              "      border-color: transparent;\n",
              "      border-right-color: var(--fill-color);\n",
              "      border-bottom-color: var(--fill-color);\n",
              "    }\n",
              "    90% {\n",
              "      border-color: transparent;\n",
              "      border-bottom-color: var(--fill-color);\n",
              "    }\n",
              "  }\n",
              "</style>\n",
              "\n",
              "  <script>\n",
              "    async function quickchart(key) {\n",
              "      const quickchartButtonEl =\n",
              "        document.querySelector('#' + key + ' button');\n",
              "      quickchartButtonEl.disabled = true;  // To prevent multiple clicks.\n",
              "      quickchartButtonEl.classList.add('colab-df-spinner');\n",
              "      try {\n",
              "        const charts = await google.colab.kernel.invokeFunction(\n",
              "            'suggestCharts', [key], {});\n",
              "      } catch (error) {\n",
              "        console.error('Error during call to suggestCharts:', error);\n",
              "      }\n",
              "      quickchartButtonEl.classList.remove('colab-df-spinner');\n",
              "      quickchartButtonEl.classList.add('colab-df-quickchart-complete');\n",
              "    }\n",
              "    (() => {\n",
              "      let quickchartButtonEl =\n",
              "        document.querySelector('#df-6e61d3ea-c5d7-48cd-bfb3-dd1ac97f3d30 button');\n",
              "      quickchartButtonEl.style.display =\n",
              "        google.colab.kernel.accessAllowed ? 'block' : 'none';\n",
              "    })();\n",
              "  </script>\n",
              "</div>\n",
              "    </div>\n",
              "  </div>\n"
            ]
          },
          "metadata": {},
          "execution_count": 65
        }
      ]
    },
    {
      "cell_type": "code",
      "source": [
        "#Hyperparameter tuning of the svm classifier\n",
        "svm_reduc_hypertun = GridSearchCV(SVC(),svm_grid,refit=True,verbose = 3); #svm_grid had been created on the first section of hyperparameter tuning for Support Vector Machine\n",
        "svm_reduc_hypertun.fit(x_train_reduced_svm,y_train);\n"
      ],
      "metadata": {
        "id": "Mrmt3TB6tqHM"
      },
      "execution_count": null,
      "outputs": []
    },
    {
      "cell_type": "code",
      "source": [
        "#Printing the best hyperparameters\n",
        "print(svm_reduc_hypertun.best_params_)"
      ],
      "metadata": {
        "colab": {
          "base_uri": "https://localhost:8080/"
        },
        "id": "7kVoQdAevZf7",
        "outputId": "e5ec85b5-7fce-49c1-e6b5-6506951b3915"
      },
      "execution_count": 60,
      "outputs": [
        {
          "output_type": "stream",
          "name": "stdout",
          "text": [
            "{'C': 10, 'gamma': 0.001, 'kernel': 'rbf'}\n"
          ]
        }
      ]
    },
    {
      "cell_type": "markdown",
      "source": [
        "#### Creating the SVM classifier and assessing it"
      ],
      "metadata": {
        "id": "Ij9CDgrxxpEQ"
      }
    },
    {
      "cell_type": "code",
      "source": [
        "# Creating the SVM classifier with the optimal hyperparameters.\n",
        "svm_reduc_classifier = SVC(C=10,gamma=0.001,kernel='rbf')\n",
        "svm_reduc_classifier.fit(x_train_reduced_svm,y_train)\n",
        "y_predicted_svm_redu = svm_reduc_classifier.predict(x_test_reduced_svm)"
      ],
      "metadata": {
        "colab": {
          "base_uri": "https://localhost:8080/"
        },
        "id": "iilSYWacvsBq",
        "outputId": "b9e68d4a-88b9-4c4d-f686-ca47e438d78c"
      },
      "execution_count": 67,
      "outputs": [
        {
          "output_type": "stream",
          "name": "stderr",
          "text": [
            "/usr/local/lib/python3.10/dist-packages/sklearn/utils/validation.py:1143: DataConversionWarning: A column-vector y was passed when a 1d array was expected. Please change the shape of y to (n_samples, ), for example using ravel().\n",
            "  y = column_or_1d(y, warn=True)\n"
          ]
        }
      ]
    },
    {
      "cell_type": "markdown",
      "source": [
        "Now let's assess the performance of the svm classifier with a dimension-reduced dataset."
      ],
      "metadata": {
        "id": "rfYeois1wwPw"
      }
    },
    {
      "cell_type": "code",
      "source": [
        "print(classification_report(y_test,y_predicted_svm_redu))"
      ],
      "metadata": {
        "colab": {
          "base_uri": "https://localhost:8080/"
        },
        "id": "fLMOcVQywu59",
        "outputId": "ec1a720e-57fb-458f-9aaf-8cfb58a3d902"
      },
      "execution_count": 68,
      "outputs": [
        {
          "output_type": "stream",
          "name": "stdout",
          "text": [
            "              precision    recall  f1-score   support\n",
            "\n",
            "           B       0.96      0.99      0.97        71\n",
            "           M       0.98      0.93      0.95        43\n",
            "\n",
            "    accuracy                           0.96       114\n",
            "   macro avg       0.97      0.96      0.96       114\n",
            "weighted avg       0.97      0.96      0.96       114\n",
            "\n"
          ]
        }
      ]
    },
    {
      "cell_type": "markdown",
      "source": [
        "### Reduced-dimensionality analysis for KNN"
      ],
      "metadata": {
        "id": "6_-qWuEWxlcn"
      }
    },
    {
      "cell_type": "code",
      "source": [
        "knn_reduced_classificator = SequentialFeatureSelector(KNeighborsClassifier(),k_features=5,forward = True,scoring ='accuracy',cv = None)\n",
        "knn_reduced_classificatorfitted = knn_reduced_classificator.fit(x_train,y_train)"
      ],
      "metadata": {
        "id": "hUcl75fHyFn3"
      },
      "execution_count": null,
      "outputs": []
    },
    {
      "cell_type": "code",
      "source": [
        "print(knn_reduced_classificatorfitted.k_feature_names_)"
      ],
      "metadata": {
        "id": "qXR6IPmbZ32f",
        "colab": {
          "base_uri": "https://localhost:8080/"
        },
        "outputId": "0648165a-1192-4f9f-81b8-00874faddd56"
      },
      "execution_count": 71,
      "outputs": [
        {
          "output_type": "stream",
          "name": "stdout",
          "text": [
            "('radius1', 'smoothness1', 'texture3', 'perimeter3', 'compactness3')\n"
          ]
        }
      ]
    },
    {
      "cell_type": "markdown",
      "source": [
        "#### reducing the dimensions accordingly"
      ],
      "metadata": {
        "id": "zEhDkmcyzQEx"
      }
    },
    {
      "cell_type": "code",
      "source": [
        "x_train_reduced_knn = x_train_scaled[list(knn_reduced_classificatorfitted.k_feature_names_)]\n",
        "x_test_reduced_knn = x_test_scaled[list(knn_reduced_classificatorfitted.k_feature_names_)]"
      ],
      "metadata": {
        "id": "wElQRao7yz7K"
      },
      "execution_count": 74,
      "outputs": []
    },
    {
      "cell_type": "markdown",
      "source": [
        "#### Asessing the KNN with reduced dimensionality accordingly"
      ],
      "metadata": {
        "id": "DPB1uswSzznn"
      }
    },
    {
      "cell_type": "code",
      "source": [
        "knn_classifier_red = KNeighborsClassifier(n_neighbors=9)\n",
        "knn_classifier_red.fit(x_train_reduced_knn,y_train)\n",
        "y_prediced_knn_reduc = knn_classifier_red.predict(x_test_reduced_knn)\n",
        "print(classification_report(y_test,y_prediced_knn_reduc))"
      ],
      "metadata": {
        "colab": {
          "base_uri": "https://localhost:8080/"
        },
        "id": "Cni6WLYOzNzi",
        "outputId": "d64e386d-3e72-4029-dbd1-1b4733a4a6b1"
      },
      "execution_count": 76,
      "outputs": [
        {
          "output_type": "stream",
          "name": "stdout",
          "text": [
            "              precision    recall  f1-score   support\n",
            "\n",
            "           B       0.96      0.97      0.97        71\n",
            "           M       0.95      0.93      0.94        43\n",
            "\n",
            "    accuracy                           0.96       114\n",
            "   macro avg       0.96      0.95      0.95       114\n",
            "weighted avg       0.96      0.96      0.96       114\n",
            "\n"
          ]
        },
        {
          "output_type": "stream",
          "name": "stderr",
          "text": [
            "/usr/local/lib/python3.10/dist-packages/sklearn/neighbors/_classification.py:215: DataConversionWarning: A column-vector y was passed when a 1d array was expected. Please change the shape of y to (n_samples,), for example using ravel().\n",
            "  return self._fit(X, y)\n"
          ]
        }
      ]
    },
    {
      "cell_type": "markdown",
      "source": [
        "## RESULTS ANALYSIS"
      ],
      "metadata": {
        "id": "_KkQrX3B3Bxj"
      }
    },
    {
      "cell_type": "markdown",
      "source": [
        "The dimension reduction of the dataset did not affect the performance of the models. In terms of accuracy the results are:\n",
        "\n",
        "Accuracy Logistic Regression - entire dataset: 96\n",
        "\n",
        "Accuracy SVM - entire dataset: 95\n",
        "\n",
        "Accuracy KNN - ENTIRE DATASET: 96,\n",
        "\n",
        "Accuracy Logistic Regression - REDUCED dataset: 96\n",
        "\n",
        "Accuracy SVM - REDUCED dataset: 96\n",
        "\n",
        "Accuracy KNN - REDUCED DATASET: 96\n",
        "\n",
        "According to these results, using only 5 features, the models reached its highest precission. So by dropping 25 features for the dataset the computation efficiency increases without compromising accuracy.\n",
        "\n",
        "Note that  the SVM model reached a better accuracy with the reduced dimensions dataset. One hypothesis for this, is that the hyperparameter tuning for the SVM applied to the entiredataset lacked of a higher grid to find the optimal hyperparameters. Anyway, for the purpose of this project, the results keep demonstrating that dimensionality reduction is efficient in this project.\n"
      ],
      "metadata": {
        "id": "d2RtrFFb3Ili"
      }
    }
  ]
}